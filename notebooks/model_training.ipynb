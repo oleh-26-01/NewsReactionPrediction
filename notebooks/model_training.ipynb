{
 "cells": [
  {
   "cell_type": "markdown",
   "source": [
    "# Importing Libraries"
   ],
   "metadata": {
    "collapsed": false
   }
  },
  {
   "cell_type": "code",
   "execution_count": 1,
   "outputs": [
    {
     "name": "stdout",
     "output_type": "stream",
     "text": [
      "WARNING:tensorflow:From C:\\#Coding\\Python\\_uvPythonEnvironment\\.venv\\lib\\site-packages\\keras\\src\\losses.py:2976: The name tf.losses.sparse_softmax_cross_entropy is deprecated. Please use tf.compat.v1.losses.sparse_softmax_cross_entropy instead.\n"
     ]
    },
    {
     "name": "stderr",
     "output_type": "stream",
     "text": [
      "C:\\#Coding\\Python\\_uvPythonEnvironment\\.venv\\lib\\site-packages\\fuzzywuzzy\\fuzz.py:11: UserWarning: Using slow pure-python SequenceMatcher. Install python-Levenshtein to remove this warning\n",
      "  warnings.warn('Using slow pure-python SequenceMatcher. Install python-Levenshtein to remove this warning')\n"
     ]
    }
   ],
   "source": [
    "import pickle\n",
    "import numpy as np\n",
    "import pandas as pd\n",
    "import tensorflow as tf\n",
    "\n",
    "import matplotlib.pyplot as plt\n",
    "\n",
    "# noinspection PyUnresolvedReferences\n",
    "from tensorflow.keras.preprocessing.text import Tokenizer\n",
    "# noinspection PyUnresolvedReferences\n",
    "from tensorflow.keras.preprocessing.sequence import pad_sequences\n",
    "from helper import *"
   ],
   "metadata": {
    "collapsed": false,
    "ExecuteTime": {
     "end_time": "2024-06-11T15:02:02.393856800Z",
     "start_time": "2024-06-11T15:01:58.255567800Z"
    }
   }
  },
  {
   "cell_type": "markdown",
   "source": [
    "# Loading Data"
   ],
   "metadata": {
    "collapsed": false
   }
  },
  {
   "cell_type": "code",
   "execution_count": 3,
   "outputs": [
    {
     "ename": "UnicodeDecodeError",
     "evalue": "'utf-8' codec can't decode byte 0xc7 in position 51: invalid continuation byte",
     "output_type": "error",
     "traceback": [
      "\u001B[1;31m---------------------------------------------------------------------------\u001B[0m",
      "\u001B[1;31mUnicodeDecodeError\u001B[0m                        Traceback (most recent call last)",
      "Cell \u001B[1;32mIn[3], line 9\u001B[0m\n\u001B[0;32m      4\u001B[0m model_name \u001B[38;5;241m=\u001B[39m \u001B[38;5;124m\"\u001B[39m\u001B[38;5;124mlike_model\u001B[39m\u001B[38;5;124m\"\u001B[39m\n\u001B[0;32m      6\u001B[0m \u001B[38;5;66;03m# with open(pickle_path, \"rb\") as f:\u001B[39;00m\n\u001B[0;32m      7\u001B[0m \u001B[38;5;66;03m#     data = pickle.load(f)\u001B[39;00m\n\u001B[1;32m----> 9\u001B[0m df \u001B[38;5;241m=\u001B[39m \u001B[43mpd\u001B[49m\u001B[38;5;241;43m.\u001B[39;49m\u001B[43mread_csv\u001B[49m\u001B[43m(\u001B[49m\u001B[43mdata_path\u001B[49m\u001B[43m)\u001B[49m\n\u001B[0;32m     10\u001B[0m \u001B[38;5;66;03m# drop id, source, date, time, views, forwards, containing_media\u001B[39;00m\n\u001B[0;32m     11\u001B[0m df \u001B[38;5;241m=\u001B[39m df\u001B[38;5;241m.\u001B[39mdrop(columns\u001B[38;5;241m=\u001B[39m[\u001B[38;5;124m\"\u001B[39m\u001B[38;5;124mid\u001B[39m\u001B[38;5;124m\"\u001B[39m, \u001B[38;5;124m\"\u001B[39m\u001B[38;5;124msource\u001B[39m\u001B[38;5;124m\"\u001B[39m, \u001B[38;5;124m\"\u001B[39m\u001B[38;5;124mdate\u001B[39m\u001B[38;5;124m\"\u001B[39m, \u001B[38;5;124m\"\u001B[39m\u001B[38;5;124mtime\u001B[39m\u001B[38;5;124m\"\u001B[39m, \u001B[38;5;124m\"\u001B[39m\u001B[38;5;124mviews\u001B[39m\u001B[38;5;124m\"\u001B[39m, \u001B[38;5;124m\"\u001B[39m\u001B[38;5;124mforwards\u001B[39m\u001B[38;5;124m\"\u001B[39m, \u001B[38;5;124m\"\u001B[39m\u001B[38;5;124mcontaining_media\u001B[39m\u001B[38;5;124m\"\u001B[39m, \u001B[38;5;124m\"\u001B[39m\u001B[38;5;124msum\u001B[39m\u001B[38;5;124m\"\u001B[39m])\n",
      "File \u001B[1;32mC:\\#Coding\\Python\\_uvPythonEnvironment\\.venv\\lib\\site-packages\\pandas\\io\\parsers\\readers.py:1026\u001B[0m, in \u001B[0;36mread_csv\u001B[1;34m(filepath_or_buffer, sep, delimiter, header, names, index_col, usecols, dtype, engine, converters, true_values, false_values, skipinitialspace, skiprows, skipfooter, nrows, na_values, keep_default_na, na_filter, verbose, skip_blank_lines, parse_dates, infer_datetime_format, keep_date_col, date_parser, date_format, dayfirst, cache_dates, iterator, chunksize, compression, thousands, decimal, lineterminator, quotechar, quoting, doublequote, escapechar, comment, encoding, encoding_errors, dialect, on_bad_lines, delim_whitespace, low_memory, memory_map, float_precision, storage_options, dtype_backend)\u001B[0m\n\u001B[0;32m   1013\u001B[0m kwds_defaults \u001B[38;5;241m=\u001B[39m _refine_defaults_read(\n\u001B[0;32m   1014\u001B[0m     dialect,\n\u001B[0;32m   1015\u001B[0m     delimiter,\n\u001B[1;32m   (...)\u001B[0m\n\u001B[0;32m   1022\u001B[0m     dtype_backend\u001B[38;5;241m=\u001B[39mdtype_backend,\n\u001B[0;32m   1023\u001B[0m )\n\u001B[0;32m   1024\u001B[0m kwds\u001B[38;5;241m.\u001B[39mupdate(kwds_defaults)\n\u001B[1;32m-> 1026\u001B[0m \u001B[38;5;28;01mreturn\u001B[39;00m \u001B[43m_read\u001B[49m\u001B[43m(\u001B[49m\u001B[43mfilepath_or_buffer\u001B[49m\u001B[43m,\u001B[49m\u001B[43m \u001B[49m\u001B[43mkwds\u001B[49m\u001B[43m)\u001B[49m\n",
      "File \u001B[1;32mC:\\#Coding\\Python\\_uvPythonEnvironment\\.venv\\lib\\site-packages\\pandas\\io\\parsers\\readers.py:620\u001B[0m, in \u001B[0;36m_read\u001B[1;34m(filepath_or_buffer, kwds)\u001B[0m\n\u001B[0;32m    617\u001B[0m _validate_names(kwds\u001B[38;5;241m.\u001B[39mget(\u001B[38;5;124m\"\u001B[39m\u001B[38;5;124mnames\u001B[39m\u001B[38;5;124m\"\u001B[39m, \u001B[38;5;28;01mNone\u001B[39;00m))\n\u001B[0;32m    619\u001B[0m \u001B[38;5;66;03m# Create the parser.\u001B[39;00m\n\u001B[1;32m--> 620\u001B[0m parser \u001B[38;5;241m=\u001B[39m TextFileReader(filepath_or_buffer, \u001B[38;5;241m*\u001B[39m\u001B[38;5;241m*\u001B[39mkwds)\n\u001B[0;32m    622\u001B[0m \u001B[38;5;28;01mif\u001B[39;00m chunksize \u001B[38;5;129;01mor\u001B[39;00m iterator:\n\u001B[0;32m    623\u001B[0m     \u001B[38;5;28;01mreturn\u001B[39;00m parser\n",
      "File \u001B[1;32mC:\\#Coding\\Python\\_uvPythonEnvironment\\.venv\\lib\\site-packages\\pandas\\io\\parsers\\readers.py:1620\u001B[0m, in \u001B[0;36mTextFileReader.__init__\u001B[1;34m(self, f, engine, **kwds)\u001B[0m\n\u001B[0;32m   1617\u001B[0m     \u001B[38;5;28mself\u001B[39m\u001B[38;5;241m.\u001B[39moptions[\u001B[38;5;124m\"\u001B[39m\u001B[38;5;124mhas_index_names\u001B[39m\u001B[38;5;124m\"\u001B[39m] \u001B[38;5;241m=\u001B[39m kwds[\u001B[38;5;124m\"\u001B[39m\u001B[38;5;124mhas_index_names\u001B[39m\u001B[38;5;124m\"\u001B[39m]\n\u001B[0;32m   1619\u001B[0m \u001B[38;5;28mself\u001B[39m\u001B[38;5;241m.\u001B[39mhandles: IOHandles \u001B[38;5;241m|\u001B[39m \u001B[38;5;28;01mNone\u001B[39;00m \u001B[38;5;241m=\u001B[39m \u001B[38;5;28;01mNone\u001B[39;00m\n\u001B[1;32m-> 1620\u001B[0m \u001B[38;5;28mself\u001B[39m\u001B[38;5;241m.\u001B[39m_engine \u001B[38;5;241m=\u001B[39m \u001B[38;5;28;43mself\u001B[39;49m\u001B[38;5;241;43m.\u001B[39;49m\u001B[43m_make_engine\u001B[49m\u001B[43m(\u001B[49m\u001B[43mf\u001B[49m\u001B[43m,\u001B[49m\u001B[43m \u001B[49m\u001B[38;5;28;43mself\u001B[39;49m\u001B[38;5;241;43m.\u001B[39;49m\u001B[43mengine\u001B[49m\u001B[43m)\u001B[49m\n",
      "File \u001B[1;32mC:\\#Coding\\Python\\_uvPythonEnvironment\\.venv\\lib\\site-packages\\pandas\\io\\parsers\\readers.py:1898\u001B[0m, in \u001B[0;36mTextFileReader._make_engine\u001B[1;34m(self, f, engine)\u001B[0m\n\u001B[0;32m   1895\u001B[0m     \u001B[38;5;28;01mraise\u001B[39;00m \u001B[38;5;167;01mValueError\u001B[39;00m(msg)\n\u001B[0;32m   1897\u001B[0m \u001B[38;5;28;01mtry\u001B[39;00m:\n\u001B[1;32m-> 1898\u001B[0m     \u001B[38;5;28;01mreturn\u001B[39;00m mapping[engine](f, \u001B[38;5;241m*\u001B[39m\u001B[38;5;241m*\u001B[39m\u001B[38;5;28mself\u001B[39m\u001B[38;5;241m.\u001B[39moptions)\n\u001B[0;32m   1899\u001B[0m \u001B[38;5;28;01mexcept\u001B[39;00m \u001B[38;5;167;01mException\u001B[39;00m:\n\u001B[0;32m   1900\u001B[0m     \u001B[38;5;28;01mif\u001B[39;00m \u001B[38;5;28mself\u001B[39m\u001B[38;5;241m.\u001B[39mhandles \u001B[38;5;129;01mis\u001B[39;00m \u001B[38;5;129;01mnot\u001B[39;00m \u001B[38;5;28;01mNone\u001B[39;00m:\n",
      "File \u001B[1;32mC:\\#Coding\\Python\\_uvPythonEnvironment\\.venv\\lib\\site-packages\\pandas\\io\\parsers\\c_parser_wrapper.py:93\u001B[0m, in \u001B[0;36mCParserWrapper.__init__\u001B[1;34m(self, src, **kwds)\u001B[0m\n\u001B[0;32m     90\u001B[0m \u001B[38;5;28;01mif\u001B[39;00m kwds[\u001B[38;5;124m\"\u001B[39m\u001B[38;5;124mdtype_backend\u001B[39m\u001B[38;5;124m\"\u001B[39m] \u001B[38;5;241m==\u001B[39m \u001B[38;5;124m\"\u001B[39m\u001B[38;5;124mpyarrow\u001B[39m\u001B[38;5;124m\"\u001B[39m:\n\u001B[0;32m     91\u001B[0m     \u001B[38;5;66;03m# Fail here loudly instead of in cython after reading\u001B[39;00m\n\u001B[0;32m     92\u001B[0m     import_optional_dependency(\u001B[38;5;124m\"\u001B[39m\u001B[38;5;124mpyarrow\u001B[39m\u001B[38;5;124m\"\u001B[39m)\n\u001B[1;32m---> 93\u001B[0m \u001B[38;5;28mself\u001B[39m\u001B[38;5;241m.\u001B[39m_reader \u001B[38;5;241m=\u001B[39m parsers\u001B[38;5;241m.\u001B[39mTextReader(src, \u001B[38;5;241m*\u001B[39m\u001B[38;5;241m*\u001B[39mkwds)\n\u001B[0;32m     95\u001B[0m \u001B[38;5;28mself\u001B[39m\u001B[38;5;241m.\u001B[39munnamed_cols \u001B[38;5;241m=\u001B[39m \u001B[38;5;28mself\u001B[39m\u001B[38;5;241m.\u001B[39m_reader\u001B[38;5;241m.\u001B[39munnamed_cols\n\u001B[0;32m     97\u001B[0m \u001B[38;5;66;03m# error: Cannot determine type of 'names'\u001B[39;00m\n",
      "File \u001B[1;32mparsers.pyx:574\u001B[0m, in \u001B[0;36mpandas._libs.parsers.TextReader.__cinit__\u001B[1;34m()\u001B[0m\n",
      "File \u001B[1;32mparsers.pyx:663\u001B[0m, in \u001B[0;36mpandas._libs.parsers.TextReader._get_header\u001B[1;34m()\u001B[0m\n",
      "File \u001B[1;32mparsers.pyx:874\u001B[0m, in \u001B[0;36mpandas._libs.parsers.TextReader._tokenize_rows\u001B[1;34m()\u001B[0m\n",
      "File \u001B[1;32mparsers.pyx:891\u001B[0m, in \u001B[0;36mpandas._libs.parsers.TextReader._check_tokenize_status\u001B[1;34m()\u001B[0m\n",
      "File \u001B[1;32mparsers.pyx:2053\u001B[0m, in \u001B[0;36mpandas._libs.parsers.raise_parser_error\u001B[1;34m()\u001B[0m\n",
      "\u001B[1;31mUnicodeDecodeError\u001B[0m: 'utf-8' codec can't decode byte 0xc7 in position 51: invalid continuation byte"
     ]
    }
   ],
   "source": [
    "data_path = \"../data/processed_data_temp.csv\"\n",
    "pickle_path = \"../data/data.pickle\"\n",
    "\n",
    "model_name = \"like_model\"\n",
    "\n",
    "# with open(pickle_path, \"rb\") as f:\n",
    "#     data = pickle.load(f)\n",
    "\n",
    "df = pd.read_csv(data_path)\n",
    "# drop id, source, date, time, views, forwards, containing_media\n",
    "df = df.drop(columns=[\"id\", \"source\", \"date\", \"time\", \"views\", \"forwards\", \"containing_media\", \"sum\"])\n",
    "df = df.dropna()\n",
    "df"
   ],
   "metadata": {
    "collapsed": false,
    "ExecuteTime": {
     "end_time": "2024-06-11T15:02:42.022205800Z",
     "start_time": "2024-06-11T15:02:41.818567500Z"
    }
   }
  },
  {
   "cell_type": "code",
   "execution_count": null,
   "outputs": [],
   "source": [
    "def filter_string_rows(df):\n",
    "    data = []\n",
    "    # Check if row[0] is a string\n",
    "    for row in df.values:\n",
    "        if isinstance(row[0], str):\n",
    "            data.append(row)\n",
    "\n",
    "    print(f\"Data length: {len(data)}\")\n",
    "    return data\n",
    "\n",
    "def clean_data(data):\n",
    "    for i in range(len(data)):\n",
    "        data[i][0] = clean_text(data[i][0])\n",
    "        if i % 1000 == 0:\n",
    "            print(f\"Cleaning: {i + 1}/{len(data)}\", end=\"\\r\")\n",
    "    print(f\"Cleaning: {len(data)}/{len(data)}\")\n",
    "    return data\n",
    "\n",
    "def process_data(data):\n",
    "    for i in range(len(data)):\n",
    "        data[i][0] = replace_numbers(data[i][0])\n",
    "        if i % 1000 == 0:\n",
    "            print(f\"Processing: {i + 1}/{len(data)}\", end=\"\\r\")\n",
    "    print(f\"Processing: {len(data)}/{len(data)}\")\n",
    "    return data\n",
    "\n",
    "def articles_answers_crop(data):\n",
    "    articles = [row[0] for row in data]\n",
    "    answers = [[float(value) for value in row[1:]] for row in data]\n",
    "    return articles, answers\n",
    "\n",
    "def argmax_convertion(answers):\n",
    "    # convert [0.8, 0.1, 0.1] to [1, 0, 0]\n",
    "    one_maxtix = np.eye(len(answers[0]))\n",
    "    for i in range(len(answers)):\n",
    "        answers[i] = one_maxtix[np.argmax(answers[i])]\n",
    "        if i % 1000 == 0:\n",
    "            print(f\"Argmax: {i + 1}/{len(answers)}\", end=\"\\r\")\n",
    "    print(f\"Argmax: {len(answers)}/{len(answers)}\")\n",
    "    return answers\n",
    "\n",
    "\n",
    "data = filter_string_rows(df)\n",
    "data = clean_data(data)\n",
    "data = process_data(data)\n",
    "articles, answers = articles_answers_crop(data)\n",
    "answers = argmax_convertion(answers)\n",
    "print(f\"Articles: {len(articles)}, Answers: {len(answers)}\")\n",
    "print(f\"Example: {articles[0]}, {answers[0]}\")"
   ],
   "metadata": {
    "collapsed": false,
    "ExecuteTime": {
     "end_time": "2024-06-11T15:02:02.826964400Z",
     "start_time": "2024-06-11T15:02:02.800230200Z"
    }
   }
  },
  {
   "cell_type": "markdown",
   "source": [
    "# Preprocessing Data"
   ],
   "metadata": {
    "collapsed": false
   }
  },
  {
   "cell_type": "code",
   "execution_count": null,
   "outputs": [],
   "source": [
    "(train_articles, train_answers), (validation_articles, validation_answers) = split_data(articles, answers, 0.95)\n",
    "print(f\"Train: {len(train_articles)}, Validation: {len(validation_articles)}\")"
   ],
   "metadata": {
    "collapsed": false,
    "ExecuteTime": {
     "start_time": "2024-06-11T15:02:02.802320500Z"
    }
   }
  },
  {
   "cell_type": "markdown",
   "source": [
    "# Tokenizing, truncating and padding data"
   ],
   "metadata": {
    "collapsed": false
   }
  },
  {
   "cell_type": "code",
   "execution_count": null,
   "outputs": [],
   "source": [
    "vocab_size = 50_000\n",
    "max_length = 100\n",
    "trunc_type = \"post\"\n",
    "padding_type = \"post\"\n",
    "oov_tok = \"<OOV>\""
   ],
   "metadata": {
    "collapsed": false,
    "ExecuteTime": {
     "start_time": "2024-06-11T15:02:02.803335600Z"
    }
   }
  },
  {
   "cell_type": "code",
   "execution_count": null,
   "outputs": [],
   "source": [
    "tokenizer = Tokenizer(num_words=vocab_size, oov_token=oov_tok)\n",
    "tokenizer.fit_on_texts(train_articles)\n",
    "word_index = tokenizer.word_index\n",
    "\n",
    "print(f\"Word Index: {len(word_index)}\")\n",
    "print(f\"Example from end: {list(word_index.items())[:20]}\")"
   ],
   "metadata": {
    "collapsed": false,
    "ExecuteTime": {
     "start_time": "2024-06-11T15:02:02.805506700Z"
    }
   }
  },
  {
   "cell_type": "code",
   "execution_count": null,
   "outputs": [],
   "source": [
    "# save tokenizer\n",
    "with open(f\"../models/{model_name}_tokenizer.pickle\", \"wb\") as f:\n",
    "    pickle.dump(tokenizer, f)"
   ],
   "metadata": {
    "collapsed": false,
    "ExecuteTime": {
     "start_time": "2024-06-11T15:02:02.806517200Z"
    }
   }
  },
  {
   "cell_type": "code",
   "execution_count": null,
   "outputs": [],
   "source": [
    "def words_per_article(articles):\n",
    "    # return min, max, mean\n",
    "    min_words = 10**10\n",
    "    max_words = 0\n",
    "    total_words = 0\n",
    "    for article in articles:\n",
    "        words = len(article.split(\" \"))\n",
    "        if words < min_words:\n",
    "            min_words = words\n",
    "        if words > max_words:\n",
    "            max_words = words\n",
    "        total_words += words\n",
    "    return min_words, max_words, total_words / len(articles)\n",
    "\n",
    "min_words, max_words, mean_words = words_per_article(train_articles)\n",
    "print(f\"Min Words: {min_words}, Max Words: {max_words}, Mean Words: {mean_words}\")"
   ],
   "metadata": {
    "collapsed": false,
    "ExecuteTime": {
     "start_time": "2024-06-11T15:02:02.808555500Z"
    }
   }
  },
  {
   "cell_type": "code",
   "execution_count": null,
   "outputs": [],
   "source": [
    "# plot distribution of words per article\n",
    "words_per_article = [len(article.split(\" \")) for article in train_articles]\n",
    "plt.hist(words_per_article, bins=100)\n",
    "plt.xlabel(\"Words per Article\")\n",
    "plt.ylabel(\"Articles per Length\")\n",
    "plt.show()"
   ],
   "metadata": {
    "collapsed": false,
    "ExecuteTime": {
     "start_time": "2024-06-11T15:02:02.809585200Z"
    }
   }
  },
  {
   "cell_type": "code",
   "execution_count": null,
   "outputs": [],
   "source": [
    "train_padded = seq_pad_and_trunc(train_articles, tokenizer, padding_type, trunc_type, max_length)\n",
    "validation_padded = seq_pad_and_trunc(validation_articles, tokenizer, padding_type, trunc_type, max_length)\n",
    "print(f\"Train Padded: {train_padded.shape}, Validation Padded: {validation_padded.shape}\")"
   ],
   "metadata": {
    "collapsed": false,
    "ExecuteTime": {
     "start_time": "2024-06-11T15:02:02.811659100Z"
    }
   }
  },
  {
   "cell_type": "code",
   "execution_count": null,
   "outputs": [],
   "source": [
    "train_answers = np.array(train_answers)\n",
    "validation_answers = np.array(validation_answers)"
   ],
   "metadata": {
    "collapsed": false,
    "ExecuteTime": {
     "start_time": "2024-06-11T15:02:02.812668400Z"
    }
   }
  },
  {
   "cell_type": "code",
   "execution_count": null,
   "outputs": [],
   "source": [
    "# print some examples\n",
    "for i in range(5):\n",
    "    print(f\"Article: {train_articles[i]}\")\n",
    "    print(f\"Article Padded: {train_padded[i]}\")\n",
    "    print(f\"Answer: {train_answers[i]}\")\n",
    "    print()"
   ],
   "metadata": {
    "collapsed": false,
    "ExecuteTime": {
     "start_time": "2024-06-11T15:02:02.814730300Z"
    }
   }
  },
  {
   "cell_type": "code",
   "execution_count": null,
   "outputs": [],
   "source": [
    "import keras.layers as L\n",
    "\n",
    "def create_model(vocab_size, embedding_dim, max_length):\n",
    "    input = L.Input(shape=(max_length,))\n",
    "    x = L.Embedding(vocab_size, embedding_dim)(input)\n",
    "    x = L.Flatten()(x)\n",
    "    x = L.Dense(32, activation=\"relu\")(x)\n",
    "    x = L.Dropout(0.1)(x)\n",
    "    x = L.Dense(3, activation=\"softmax\")(x)\n",
    "    model = tf.keras.Model(inputs=input, outputs=x)\n",
    "    return model\n",
    "\n",
    "model = create_model(vocab_size, 16, max_length)\n",
    "\n",
    "# loss = tf.keras.losses.KLDivergence()\n",
    "loss = tf.keras.losses.CategoricalCrossentropy()\n",
    "optimizer = tf.keras.optimizers.Adam(learning_rate=1e-4)\n",
    "metrics = [\"accuracy\"]\n",
    "model.compile(loss=loss, optimizer=optimizer, metrics=metrics)\n",
    "\n",
    "model.summary()"
   ],
   "metadata": {
    "collapsed": false,
    "ExecuteTime": {
     "start_time": "2024-06-11T15:02:02.816865Z"
    }
   }
  },
  {
   "cell_type": "code",
   "execution_count": null,
   "outputs": [],
   "source": [
    "epochs = 30\n",
    "batch_size = 1024\n",
    "checkpoint_callback = tf.keras.callbacks.ModelCheckpoint(\n",
    "    filepath=f\"../models/{model_name}_checkpoint.h5\",\n",
    "    save_weights_only=False,\n",
    "    monitor=\"val_accuracy\",\n",
    "    mode=\"max\",\n",
    "    save_best_only=True\n",
    ")\n",
    "history = model.fit(train_padded, train_answers, epochs=epochs,\n",
    "                    batch_size=batch_size,\n",
    "                    validation_data=(validation_padded, validation_answers),\n",
    "                    callbacks=[checkpoint_callback])"
   ],
   "metadata": {
    "collapsed": false,
    "ExecuteTime": {
     "start_time": "2024-06-11T15:02:02.817874500Z"
    }
   }
  },
  {
   "cell_type": "code",
   "execution_count": null,
   "outputs": [],
   "source": [
    "def plot_history(history):\n",
    "    plt.plot(history.history[\"loss\"], label=\"loss\")\n",
    "    plt.plot(history.history[\"val_loss\"], label=\"val_loss\")\n",
    "    plt.legend()\n",
    "    plt.show()\n",
    "\n",
    "    plt.plot(history.history[\"accuracy\"], label=\"accuracy\")\n",
    "    plt.plot(history.history[\"val_accuracy\"], label=\"val_accuracy\")\n",
    "    plt.legend()\n",
    "    plt.show()\n",
    "\n",
    "def plot_history_as_subplots(history):\n",
    "    fig, (ax1, ax2) = plt.subplots(1, 2, figsize=(15, 5))\n",
    "    ax1.plot(history.history[\"loss\"], label=\"loss\")\n",
    "    ax1.plot(history.history[\"val_loss\"], label=\"val_loss\")\n",
    "    ax1.legend()\n",
    "    ax2.plot(history.history[\"accuracy\"], label=\"accuracy\")\n",
    "    ax2.plot(history.history[\"val_accuracy\"], label=\"val_accuracy\")\n",
    "    ax2.legend()\n",
    "    plt.show()\n",
    "\n",
    "plot_history_as_subplots(history)"
   ],
   "metadata": {
    "collapsed": false,
    "ExecuteTime": {
     "start_time": "2024-06-11T15:02:02.819890300Z"
    }
   }
  },
  {
   "cell_type": "code",
   "execution_count": null,
   "outputs": [],
   "source": [
    "# load best model\n",
    "model = tf.keras.models.load_model(f\"../models/{model_name}_checkpoint.h5\")\n",
    "\n",
    "# evaluate on validation data\n",
    "model.evaluate(validation_padded, validation_answers)"
   ],
   "metadata": {
    "collapsed": false,
    "ExecuteTime": {
     "start_time": "2024-06-11T15:02:02.821906700Z"
    }
   }
  },
  {
   "cell_type": "code",
   "execution_count": null,
   "outputs": [],
   "source": [
    "splited = {}\n",
    "for i in range(len(validation_answers)):\n",
    "    varticle = validation_articles[i]\n",
    "    vanswer = validation_answers[i]\n",
    "\n",
    "    length = len(varticle.split(\" \"))\n",
    "    if length > max_length:\n",
    "        continue\n",
    "    if length not in splited:\n",
    "        splited[length] = []\n",
    "\n",
    "    splited[length].append((varticle, vanswer))\n",
    "\n",
    "results = {}\n",
    "# sort splited by length\n",
    "splited = dict(sorted(splited.items(), key=lambda item: item[0]))\n",
    "for key in splited:\n",
    "    varticles = [row[0] for row in splited[key]]\n",
    "    vanswers = [row[1] for row in splited[key]]\n",
    "    varticles_padded = seq_pad_and_trunc(varticles, tokenizer, padding_type, trunc_type, max_length)\n",
    "    vanswers = np.array(vanswers)\n",
    "    # print(f\"Length: {key}, Articles: {len(varticles)}, Answers: {len(vanswers)}\")\n",
    "    pred = model.evaluate(varticles_padded, vanswers, verbose=0)\n",
    "    # get mean of loss and accuracy\n",
    "    results[key] = (pred[0], pred[1])\n",
    "\n",
    "# make df from results\n",
    "results_df = pd.DataFrame(results.items(), columns=[\"Length\", \"Results\"])\n",
    "# use rolling mean to smooth the data\n",
    "results_df[\"Loss\"] = results_df[\"Results\"].apply(lambda x: x[0]).rolling(10).mean()\n",
    "results_df[\"Accuracy\"] = results_df[\"Results\"].apply(lambda x: x[1]).rolling(10).mean()\n",
    "results_df = results_df.drop(columns=[\"Results\"])\n",
    "\n",
    "# plot results\n",
    "plt.plot(results_df[\"Length\"], results_df[\"Loss\"], label=\"loss\")\n",
    "plt.plot(results_df[\"Length\"], results_df[\"Accuracy\"], label=\"accuracy\")\n",
    "plt.legend()\n",
    "plt.show()"
   ],
   "metadata": {
    "collapsed": false,
    "ExecuteTime": {
     "start_time": "2024-06-11T15:02:02.823939300Z"
    }
   }
  },
  {
   "cell_type": "code",
   "execution_count": null,
   "outputs": [],
   "source": [
    "# save model\n",
    "model.save(\"../models/like_model.h5\")\n",
    "\n",
    "# save tokenizer\n",
    "with open(\"../models/like_tokenizer.pickle\", \"wb\") as f:\n",
    "    pickle.dump(tokenizer, f)"
   ],
   "metadata": {
    "collapsed": false,
    "ExecuteTime": {
     "start_time": "2024-06-11T15:02:02.825956300Z"
    }
   }
  },
  {
   "cell_type": "code",
   "execution_count": null,
   "outputs": [],
   "source": [
    "o_article = \"Комітет з питань гуманітарної та інформаційної політики не підтримав відставку Ткаченка. Зазначають, що рішення прийматиме Верховна Рада.\"\n",
    "\n",
    "article = clean_text(o_article)\n",
    "article = replace_numbers(article)\n",
    "article_padded = seq_pad_and_trunc([article], tokenizer, padding_type, trunc_type, max_length)\n",
    "article_padded = np.array(article_padded)\n",
    "\n",
    "predictions = model.predict(article_padded)\n",
    "\n",
    "count = sum([1 for num in article_padded[0] if num == 1])\n",
    "print(f\"Article: {o_article}\")\n",
    "print(f\"Unfamiliar Words: {count}\")\n",
    "\n",
    "plt.bar(df.columns[1:], predictions[0])\n",
    "plt.gcf().set_size_inches(2, 2)\n",
    "plt.xticks(rotation=45)\n",
    "plt.show()"
   ],
   "metadata": {
    "collapsed": false,
    "ExecuteTime": {
     "start_time": "2024-06-11T15:02:02.826964400Z"
    }
   }
  },
  {
   "cell_type": "code",
   "execution_count": null,
   "outputs": [],
   "source": [
    "predictions = model.predict(article_padded)\n",
    "print(f\"Predictions: {predictions}\")\n",
    "print(f\"columns: {df.columns[1:]}\")"
   ],
   "metadata": {
    "collapsed": false,
    "ExecuteTime": {
     "end_time": "2024-06-11T15:02:02.867651700Z",
     "start_time": "2024-06-11T15:02:02.827972300Z"
    }
   }
  },
  {
   "cell_type": "code",
   "execution_count": null,
   "outputs": [],
   "source": [
    "\n",
    "with open(\"../data/temp/data.pickle\", \"rb\") as f:\n",
    "    data = pickle.load(f)\n",
    "\n",
    "# convert data to dataframe\n",
    "test_df = pd.DataFrame(data, columns=['text', 'like', 'heart', 'smile', 'angry', 'sad', 'trigger', 'spread'])\n",
    "\n",
    "# merge like and heart, angry and sad\n",
    "for row in test_df.values:\n",
    "    row[1] = float(row[1]) + float(row[2])\n",
    "    row[4] = float(row[4]) + float(row[5])\n",
    "test_df = test_df.drop(columns=[\"heart\", \"sad\", \"trigger\", \"spread\"])\n",
    "# rename like -> positive, angry -> negative, smile -> neutral\n",
    "test_df = test_df.rename(columns={\"like\": \"positive\", \"angry\": \"negative\", \"smile\": \"neutral\"})\n",
    "test_df = test_df.dropna()\n",
    "test_df"
   ],
   "metadata": {
    "collapsed": false,
    "ExecuteTime": {
     "start_time": "2024-06-11T15:02:02.830051200Z"
    }
   }
  },
  {
   "cell_type": "code",
   "execution_count": null,
   "outputs": [],
   "source": [
    "# create validation data from test_df\n",
    "test_articles = [row[0] for row in test_df.values]\n",
    "test_answers = [[float(value) for value in row[1:]] for row in test_df.values]\n",
    "print(f\"Test: {len(test_articles)}\")"
   ],
   "metadata": {
    "collapsed": false,
    "ExecuteTime": {
     "start_time": "2024-06-11T15:02:02.831051600Z"
    }
   }
  },
  {
   "cell_type": "code",
   "execution_count": null,
   "outputs": [],
   "source": [
    "for i in range(len(test_articles)):\n",
    "    test_articles[i] = clean_text(test_articles[i])\n",
    "    test_articles[i] = replace_numbers(test_articles[i])\n",
    "    print(f\"{i + 1}/{len(test_articles)}\", end=\"\\r\")\n",
    "\n",
    "test_padded = seq_pad_and_trunc(test_articles, tokenizer, padding_type, trunc_type, max_length)\n",
    "print(f\"Test Padded: {test_padded.shape}\")"
   ],
   "metadata": {
    "collapsed": false,
    "ExecuteTime": {
     "start_time": "2024-06-11T15:02:02.833052200Z"
    }
   }
  },
  {
   "cell_type": "code",
   "execution_count": null,
   "outputs": [],
   "source": [
    "test_answers = np.array(test_answers)\n",
    "\n",
    "# evaluate on test data\n",
    "model.evaluate(test_padded, test_answers)"
   ],
   "metadata": {
    "collapsed": false,
    "ExecuteTime": {
     "start_time": "2024-06-11T15:02:02.834367800Z"
    }
   }
  },
  {
   "cell_type": "code",
   "execution_count": null,
   "outputs": [],
   "source": [
    "e = model.layers[1]\n",
    "weights = e.get_weights()[0]\n",
    "print(weights.shape)"
   ],
   "metadata": {
    "collapsed": false,
    "ExecuteTime": {
     "start_time": "2024-06-11T15:02:02.835378100Z"
    }
   }
  },
  {
   "cell_type": "code",
   "execution_count": null,
   "outputs": [],
   "source": [
    "reverse_word_index = tokenizer.index_word"
   ],
   "metadata": {
    "collapsed": false,
    "ExecuteTime": {
     "start_time": "2024-06-11T15:02:02.836386400Z"
    }
   }
  },
  {
   "cell_type": "code",
   "execution_count": null,
   "outputs": [],
   "source": [
    "import io\n",
    "\n",
    "out_v = io.open('vectors.tsv', 'w', encoding='utf-8')\n",
    "out_m = io.open('metadata.tsv', 'w', encoding='utf-8')\n",
    "\n",
    "for word_num in range(1, vocab_size):\n",
    "    word = reverse_word_index[word_num]\n",
    "    embeddings = weights[word_num]\n",
    "    out_m.write(word + \"\\n\")\n",
    "    out_v.write(\"\\t\".join([str(x) for x in embeddings]) + \"\\n\")\n",
    "\n",
    "out_v.close()\n",
    "out_m.close()"
   ],
   "metadata": {
    "collapsed": false,
    "ExecuteTime": {
     "start_time": "2024-06-11T15:02:02.838403100Z"
    }
   }
  },
  {
   "cell_type": "code",
   "execution_count": null,
   "outputs": [],
   "source": [],
   "metadata": {
    "collapsed": false,
    "ExecuteTime": {
     "start_time": "2024-06-11T15:02:02.839411900Z"
    }
   }
  }
 ],
 "metadata": {
  "kernelspec": {
   "display_name": "Python 3",
   "language": "python",
   "name": "python3"
  },
  "language_info": {
   "codemirror_mode": {
    "name": "ipython",
    "version": 2
   },
   "file_extension": ".py",
   "mimetype": "text/x-python",
   "name": "python",
   "nbconvert_exporter": "python",
   "pygments_lexer": "ipython2",
   "version": "2.7.6"
  }
 },
 "nbformat": 4,
 "nbformat_minor": 0
}
