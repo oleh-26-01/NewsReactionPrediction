{
 "cells": [
  {
   "cell_type": "code",
   "outputs": [],
   "source": [
    "import pandas as pd\n",
    "import os\n",
    "import sentencepiece as spm\n",
    "from time import time"
   ],
   "metadata": {
    "collapsed": false,
    "ExecuteTime": {
     "end_time": "2024-03-05T09:40:07.081076100Z",
     "start_time": "2024-03-05T09:40:05.295195700Z"
    }
   },
   "id": "92bd300599bb7e20",
   "execution_count": 1
  },
  {
   "cell_type": "code",
   "outputs": [
    {
     "data": {
      "text/plain": "          id            source                 date  \\\n0      19189  Times of Ukraine  2023-07-24 13:20:42   \n1      19188  Times of Ukraine  2023-07-24 12:36:37   \n2      19187  Times of Ukraine  2023-07-24 11:41:15   \n3      19186  Times of Ukraine  2023-07-24 11:20:06   \n4      19185  Times of Ukraine  2023-07-24 11:00:17   \n...      ...               ...                  ...   \n75464      8       Ukraine NOW  2020-03-08 11:10:01   \n75465      7       Ukraine NOW  2020-03-07 15:11:00   \n75466      6       Ukraine NOW  2020-03-07 12:01:00   \n75467      5       Ukraine NOW  2020-03-07 11:12:13   \n75468      4       Ukraine NOW  2020-03-06 15:05:12   \n\n                                                    text   views  forwards  \\\n0      🧡 Кадрові зміни у Кабміні. Новим керівником Мі...   84755        80   \n1      💚 Не минуло і місяця після звільнення з ЗСУ, я...  104968       218   \n2      У Польщі запрацював хаб з ремонту танків Leopa...  115646        77   \n3      У Києві затримали колишнього віськкома-втікача...  120479       245   \n4      ‼️ Через війну ціни в Києві виросли на 247%. \\...  121536       324   \n...                                                  ...     ...       ...   \n75464   Станом на ранок 8 березня в Україні зареєстро...   56846       105   \n75465   ​​Міністерство охорони здоров’я України закли...   67616       214   \n75466   Міністерство охорони здоров’я України запусти...   62571       145   \n75467   Станом на ранок 7 березня 2020 року в Україні...   52026       113   \n75468   Станом на 6 березня в Україні не зареєстрован...   54973       153   \n\n       containing_media       👍      ❤      🤬     😢    😁  \n0                  True   869.0   23.0   14.0   2.0  NaN  \n1                  True   622.0   80.0  277.0  21.0  NaN  \n2                  True  2513.0  361.0   10.0   NaN  NaN  \n3                  True  2639.0   23.0    8.0   4.0  NaN  \n4                  True   154.0   23.0  854.0  74.0  NaN  \n...                 ...     ...    ...    ...   ...  ...  \n75464             False     NaN    1.0    NaN   NaN  1.0  \n75465              True     NaN    5.0    NaN   NaN  1.0  \n75466             False     NaN    6.0    NaN   NaN  1.0  \n75467             False     1.0    3.0    NaN   NaN  2.0  \n75468             False     1.0    6.0    NaN   NaN  2.0  \n\n[75469 rows x 12 columns]",
      "text/html": "<div>\n<style scoped>\n    .dataframe tbody tr th:only-of-type {\n        vertical-align: middle;\n    }\n\n    .dataframe tbody tr th {\n        vertical-align: top;\n    }\n\n    .dataframe thead th {\n        text-align: right;\n    }\n</style>\n<table border=\"1\" class=\"dataframe\">\n  <thead>\n    <tr style=\"text-align: right;\">\n      <th></th>\n      <th>id</th>\n      <th>source</th>\n      <th>date</th>\n      <th>text</th>\n      <th>views</th>\n      <th>forwards</th>\n      <th>containing_media</th>\n      <th>👍</th>\n      <th>❤</th>\n      <th>🤬</th>\n      <th>😢</th>\n      <th>😁</th>\n    </tr>\n  </thead>\n  <tbody>\n    <tr>\n      <th>0</th>\n      <td>19189</td>\n      <td>Times of Ukraine</td>\n      <td>2023-07-24 13:20:42</td>\n      <td>🧡 Кадрові зміни у Кабміні. Новим керівником Мі...</td>\n      <td>84755</td>\n      <td>80</td>\n      <td>True</td>\n      <td>869.0</td>\n      <td>23.0</td>\n      <td>14.0</td>\n      <td>2.0</td>\n      <td>NaN</td>\n    </tr>\n    <tr>\n      <th>1</th>\n      <td>19188</td>\n      <td>Times of Ukraine</td>\n      <td>2023-07-24 12:36:37</td>\n      <td>💚 Не минуло і місяця після звільнення з ЗСУ, я...</td>\n      <td>104968</td>\n      <td>218</td>\n      <td>True</td>\n      <td>622.0</td>\n      <td>80.0</td>\n      <td>277.0</td>\n      <td>21.0</td>\n      <td>NaN</td>\n    </tr>\n    <tr>\n      <th>2</th>\n      <td>19187</td>\n      <td>Times of Ukraine</td>\n      <td>2023-07-24 11:41:15</td>\n      <td>У Польщі запрацював хаб з ремонту танків Leopa...</td>\n      <td>115646</td>\n      <td>77</td>\n      <td>True</td>\n      <td>2513.0</td>\n      <td>361.0</td>\n      <td>10.0</td>\n      <td>NaN</td>\n      <td>NaN</td>\n    </tr>\n    <tr>\n      <th>3</th>\n      <td>19186</td>\n      <td>Times of Ukraine</td>\n      <td>2023-07-24 11:20:06</td>\n      <td>У Києві затримали колишнього віськкома-втікача...</td>\n      <td>120479</td>\n      <td>245</td>\n      <td>True</td>\n      <td>2639.0</td>\n      <td>23.0</td>\n      <td>8.0</td>\n      <td>4.0</td>\n      <td>NaN</td>\n    </tr>\n    <tr>\n      <th>4</th>\n      <td>19185</td>\n      <td>Times of Ukraine</td>\n      <td>2023-07-24 11:00:17</td>\n      <td>‼️ Через війну ціни в Києві виросли на 247%. \\...</td>\n      <td>121536</td>\n      <td>324</td>\n      <td>True</td>\n      <td>154.0</td>\n      <td>23.0</td>\n      <td>854.0</td>\n      <td>74.0</td>\n      <td>NaN</td>\n    </tr>\n    <tr>\n      <th>...</th>\n      <td>...</td>\n      <td>...</td>\n      <td>...</td>\n      <td>...</td>\n      <td>...</td>\n      <td>...</td>\n      <td>...</td>\n      <td>...</td>\n      <td>...</td>\n      <td>...</td>\n      <td>...</td>\n      <td>...</td>\n    </tr>\n    <tr>\n      <th>75464</th>\n      <td>8</td>\n      <td>Ukraine NOW</td>\n      <td>2020-03-08 11:10:01</td>\n      <td>Станом на ранок 8 березня в Україні зареєстро...</td>\n      <td>56846</td>\n      <td>105</td>\n      <td>False</td>\n      <td>NaN</td>\n      <td>1.0</td>\n      <td>NaN</td>\n      <td>NaN</td>\n      <td>1.0</td>\n    </tr>\n    <tr>\n      <th>75465</th>\n      <td>7</td>\n      <td>Ukraine NOW</td>\n      <td>2020-03-07 15:11:00</td>\n      <td>​​Міністерство охорони здоров’я України закли...</td>\n      <td>67616</td>\n      <td>214</td>\n      <td>True</td>\n      <td>NaN</td>\n      <td>5.0</td>\n      <td>NaN</td>\n      <td>NaN</td>\n      <td>1.0</td>\n    </tr>\n    <tr>\n      <th>75466</th>\n      <td>6</td>\n      <td>Ukraine NOW</td>\n      <td>2020-03-07 12:01:00</td>\n      <td>Міністерство охорони здоров’я України запусти...</td>\n      <td>62571</td>\n      <td>145</td>\n      <td>False</td>\n      <td>NaN</td>\n      <td>6.0</td>\n      <td>NaN</td>\n      <td>NaN</td>\n      <td>1.0</td>\n    </tr>\n    <tr>\n      <th>75467</th>\n      <td>5</td>\n      <td>Ukraine NOW</td>\n      <td>2020-03-07 11:12:13</td>\n      <td>Станом на ранок 7 березня 2020 року в Україні...</td>\n      <td>52026</td>\n      <td>113</td>\n      <td>False</td>\n      <td>1.0</td>\n      <td>3.0</td>\n      <td>NaN</td>\n      <td>NaN</td>\n      <td>2.0</td>\n    </tr>\n    <tr>\n      <th>75468</th>\n      <td>4</td>\n      <td>Ukraine NOW</td>\n      <td>2020-03-06 15:05:12</td>\n      <td>Станом на 6 березня в Україні не зареєстрован...</td>\n      <td>54973</td>\n      <td>153</td>\n      <td>False</td>\n      <td>1.0</td>\n      <td>6.0</td>\n      <td>NaN</td>\n      <td>NaN</td>\n      <td>2.0</td>\n    </tr>\n  </tbody>\n</table>\n<p>75469 rows × 12 columns</p>\n</div>"
     },
     "execution_count": 2,
     "metadata": {},
     "output_type": "execute_result"
    }
   ],
   "source": [
    "data_path = \"../../data/four_channels.csv\"\n",
    "data = pd.read_csv(data_path)\n",
    "\n",
    "data"
   ],
   "metadata": {
    "collapsed": false,
    "ExecuteTime": {
     "end_time": "2024-03-05T09:40:07.998171300Z",
     "start_time": "2024-03-05T09:40:07.084672500Z"
    }
   },
   "id": "c668324f7a489e17",
   "execution_count": 2
  },
  {
   "cell_type": "code",
   "outputs": [
    {
     "name": "stdout",
     "output_type": "stream",
     "text": [
      "Text file created\n",
      "Pool size: 75469\n",
      "Large text size: 25913382\n",
      "Small text size: 10000\n"
     ]
    }
   ],
   "source": [
    "text_pool = data[\"text\"].tolist()\n",
    "large_text = \" \".join(text_pool).lower()\n",
    "small_text = large_text[:10000]\n",
    "\n",
    "with open(\"large_text.txt\", \"w\", encoding=\"utf-8\") as f:\n",
    "\tf.write(large_text)\n",
    "\t\n",
    "with open(\"small_text.txt\", \"w\", encoding=\"utf-8\") as f:\n",
    "\tf.write(small_text)\n",
    "\t\n",
    "print(\"Text file created\")\n",
    "print(f\"Pool size: {len(text_pool)}\")\n",
    "print(f\"Large text size: {len(large_text)}\")\n",
    "print(f\"Small text size: {len(small_text)}\")"
   ],
   "metadata": {
    "collapsed": false,
    "ExecuteTime": {
     "end_time": "2024-03-05T09:40:08.327070600Z",
     "start_time": "2024-03-05T09:40:07.999686300Z"
    }
   },
   "id": "d5d129364e70705e",
   "execution_count": 3
  },
  {
   "cell_type": "code",
   "outputs": [
    {
     "name": "stdout",
     "output_type": "stream",
     "text": [
      "Training took 13.825632095336914 seconds\n"
     ]
    }
   ],
   "source": [
    "dt = lambda x=time(): time() - x\n",
    "\n",
    "vocab_size = 2**14 # 16384\n",
    "\n",
    "spm.SentencePieceTrainer.train(\n",
    "\tinput=\"large_text.txt\",\n",
    "\tmodel_prefix=f\"spm_{vocab_size}\",\n",
    "\tmodel_type=[\"bpe\"], # [\"bpe\", \"char\", \"word\", \"unigram\"]\n",
    "\tvocab_size=vocab_size,\n",
    ")\n",
    "\n",
    "print(f\"Training took {dt()} seconds\")"
   ],
   "metadata": {
    "collapsed": false,
    "ExecuteTime": {
     "end_time": "2024-03-05T10:23:41.937539900Z",
     "start_time": "2024-03-05T10:23:41.927762900Z"
    }
   },
   "id": "b9be3ed51d5a53af",
   "execution_count": 12
  },
  {
   "cell_type": "code",
   "outputs": [
    {
     "name": "stdout",
     "output_type": "stream",
     "text": [
      "Vocab size: 4096\n"
     ]
    }
   ],
   "source": [
    "sp = spm.SentencePieceProcessor(model_file=f\"spm_{vocab_size}.model\")\n",
    "\n",
    "print(f\"Vocab size: {sp.get_piece_size()}\")"
   ],
   "metadata": {
    "collapsed": false,
    "ExecuteTime": {
     "end_time": "2024-03-05T10:14:21.536113700Z",
     "start_time": "2024-03-05T10:14:21.508197600Z"
    }
   },
   "id": "6a62546a533c8f2e",
   "execution_count": 11
  },
  {
   "cell_type": "code",
   "outputs": [
    {
     "name": "stdout",
     "output_type": "stream",
     "text": [
      "Encoding took 30.406882762908936 seconds\n",
      "Encoded size: 6228905\n"
     ]
    }
   ],
   "source": [
    "dt = lambda x=time(): time() - x\n",
    "\n",
    "# encoded = sp.encode_as_pieces(small_text, enable_sampling=True, alpha=0.1, nbest_size=-1)\n",
    "encoded = sp.encode(large_text)\n",
    "print(f\"Encoding took {dt()} seconds\")\n",
    "print(f\"Encoded size: {len(encoded)}\")"
   ],
   "metadata": {
    "collapsed": false,
    "ExecuteTime": {
     "end_time": "2024-03-05T09:40:57.823855500Z",
     "start_time": "2024-03-05T09:40:27.401998600Z"
    }
   },
   "id": "dab8aad3a8e62a6f",
   "execution_count": 6
  },
  {
   "cell_type": "code",
   "outputs": [
    {
     "name": "stdout",
     "output_type": "stream",
     "text": [
      "Decoding took 5.644878149032593 seconds\n",
      "Decoded size: 25655470\n"
     ]
    }
   ],
   "source": [
    "dt = lambda x=time(): time() - x\n",
    "\n",
    "decoded = sp.decode(encoded)\n",
    "print(f\"Decoding took {dt()} seconds\")\n",
    "print(f\"Decoded size: {len(decoded)}\")"
   ],
   "metadata": {
    "collapsed": false,
    "ExecuteTime": {
     "end_time": "2024-03-05T09:41:10.296058100Z",
     "start_time": "2024-03-05T09:41:10.280345200Z"
    }
   },
   "id": "fbb8c3800c7d7d6d",
   "execution_count": 7
  },
  {
   "cell_type": "code",
   "outputs": [
    {
     "data": {
      "text/plain": "' ⁇  кадрові зміни у кабміні. новим керівником мінкульту може стати антон дробович, очільник інституту національної пам’яті або олеся островська-люта, директорка «мистецького арсеналу». «дробович — це буде міністр-воїн, який вміє формувати вірні наративи та має зважено доносити історичний багаж. проте до кандидатури островської-лютої більш схильні на банковій», — кажуть наші джерела у парламенті. як нам стало відомо, крісло хитається ще й під міністром молоді і спорту вадимом гутцайтом. times of ukraine  ⁇  не минуло і місяця після звільнення з зсу, як юрій луценко виїхав за кордон. «лікар наполягав на обстеженні у мюнхені», — пояснив ексміністр мвс. 5 липня він полишив службу в армії за станом здоров’я. адже декілька років бореться з онкологією. близький друг петра порошенка оформив інвалідність та натякнув, що повертається у політику. на «гражданці» ексгенпрокурор вже встиг посваритися з «зеленою» депутаткою, дати декілька інтервʼю та звинуватити президента зеленського у початку повно'"
     },
     "execution_count": 8,
     "metadata": {},
     "output_type": "execute_result"
    }
   ],
   "source": [
    "decoded[:1000]"
   ],
   "metadata": {
    "collapsed": false,
    "ExecuteTime": {
     "end_time": "2024-03-05T09:41:10.328862700Z",
     "start_time": "2024-03-05T09:41:10.297174200Z"
    }
   },
   "id": "445d78f262f9ce6",
   "execution_count": 8
  },
  {
   "cell_type": "code",
   "outputs": [
    {
     "name": "stdout",
     "output_type": "stream",
     "text": [
      "Test text: Такий завод зможе випускати 400 танків на рік, задовільнивши потреби ЗСУ. І буде створений, щоб підтримати українців у боротьбі за свободу та демократію, — гендиректор Rheinmetall Армін Паппергер.\n",
      "Encoded: [8049, 0, 8051, 168, 5870, 4081, 2295, 1111, 21, 4337, 1451, 16, 2039, 8073, 26, 370, 149, 1557, 125, 4013, 8049, 0, 8071, 8049, 0, 467, 5325, 145, 8073, 497, 4998, 899, 17, 7175, 26, 3789, 40, 4272, 172, 8079, 8073, 190, 7705, 2059, 8049, 0, 395, 182, 1813, 8092, 4294, 8049, 0, 8055, 1078, 8049, 0, 8051, 8064, 605, 6840, 8071]\n",
      "Decoded:  ⁇ акий завод зможе випускати 400 танків на рік, задовільнивши потреби  ⁇ .  ⁇  буде створений, щоб підтримати українців у боротьбі за свободу та демократію, — гендиректор  ⁇ heinmetall  ⁇ рмін  ⁇ аппергер.\n"
     ]
    }
   ],
   "source": [
    "test_text = \"Такий завод зможе випускати 400 танків на рік, задовільнивши потреби ЗСУ. І буде створений, щоб підтримати українців у боротьбі за свободу та демократію, — гендиректор Rheinmetall Армін Паппергер.\"\n",
    "\n",
    "encoded = sp.encode(test_text)\n",
    "decoded = sp.decode(encoded)\n",
    "print(f\"Test text: {test_text}\")\n",
    "print(f\"Encoded: {encoded}\")\n",
    "print(f\"Decoded: {decoded}\")"
   ],
   "metadata": {
    "collapsed": false,
    "ExecuteTime": {
     "end_time": "2024-03-05T09:41:18.433377400Z",
     "start_time": "2024-03-05T09:41:18.382018Z"
    }
   },
   "id": "d6ba4ed68e1a9541",
   "execution_count": 9
  },
  {
   "cell_type": "code",
   "outputs": [],
   "source": [],
   "metadata": {
    "collapsed": false
   },
   "id": "a6c5a886e8dd5753"
  }
 ],
 "metadata": {
  "kernelspec": {
   "display_name": "Python 3",
   "language": "python",
   "name": "python3"
  },
  "language_info": {
   "codemirror_mode": {
    "name": "ipython",
    "version": 2
   },
   "file_extension": ".py",
   "mimetype": "text/x-python",
   "name": "python",
   "nbconvert_exporter": "python",
   "pygments_lexer": "ipython2",
   "version": "2.7.6"
  }
 },
 "nbformat": 4,
 "nbformat_minor": 5
}
