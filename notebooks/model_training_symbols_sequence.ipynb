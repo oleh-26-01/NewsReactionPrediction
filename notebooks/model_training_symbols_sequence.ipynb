{
 "cells": [
  {
   "cell_type": "code",
   "execution_count": 4,
   "metadata": {
    "collapsed": true,
    "ExecuteTime": {
     "end_time": "2023-07-27T18:22:46.926113200Z",
     "start_time": "2023-07-27T18:22:46.881935400Z"
    }
   },
   "outputs": [],
   "source": [
    "import pickle\n",
    "import numpy as np\n",
    "import pandas as pd\n",
    "import tensorflow as tf\n",
    "\n",
    "import matplotlib.pyplot as plt\n",
    "\n",
    "# noinspection PyUnresolvedReferences\n",
    "from tensorflow.keras.preprocessing.text import Tokenizer\n",
    "# noinspection PyUnresolvedReferences\n",
    "from tensorflow.keras.preprocessing.sequence import pad_sequences\n",
    "from helper import *"
   ]
  },
  {
   "cell_type": "code",
   "execution_count": 56,
   "outputs": [
    {
     "name": "stdout",
     "output_type": "stream",
     "text": [
      "Data length: 18726\n"
     ]
    },
    {
     "name": "stderr",
     "output_type": "stream",
     "text": [
      "C:\\Users\\yaros\\AppData\\Local\\Temp\\ipykernel_7056\\1616627533.py:9: DtypeWarning: Columns (7) have mixed types. Specify dtype option on import or set low_memory=False.\n",
      "  df = pd.read_csv(data_path)\n"
     ]
    },
    {
     "data": {
      "text/plain": "                                                     text  positive    mixed  \\\n5348    «Сі Цзіньпін каже, що готує Китай до війни. Св...  0.063175  0.00194   \n109898   Коротше є змога закупити для війська різні бо...  0.995538  0.00000   \n66838    Центральний Парк. Манхеттен, Нью-Йорк\\n\\nНОВИНА   1.000000  0.00000   \n155670  🇺🇦 Україна виборола першу медаль на чемпіонаті...  1.000000  0.00000   \n132241   ☃️Штормовий вітер та дощі: прогноз погоди в У...  0.937561  0.00000   \n\n        negative  \n5348    0.934885  \n109898  0.004462  \n66838   0.000000  \n155670  0.000000  \n132241  0.062439  ",
      "text/html": "<div>\n<style scoped>\n    .dataframe tbody tr th:only-of-type {\n        vertical-align: middle;\n    }\n\n    .dataframe tbody tr th {\n        vertical-align: top;\n    }\n\n    .dataframe thead th {\n        text-align: right;\n    }\n</style>\n<table border=\"1\" class=\"dataframe\">\n  <thead>\n    <tr style=\"text-align: right;\">\n      <th></th>\n      <th>text</th>\n      <th>positive</th>\n      <th>mixed</th>\n      <th>negative</th>\n    </tr>\n  </thead>\n  <tbody>\n    <tr>\n      <th>5348</th>\n      <td>«Сі Цзіньпін каже, що готує Китай до війни. Св...</td>\n      <td>0.063175</td>\n      <td>0.00194</td>\n      <td>0.934885</td>\n    </tr>\n    <tr>\n      <th>109898</th>\n      <td>Коротше є змога закупити для війська різні бо...</td>\n      <td>0.995538</td>\n      <td>0.00000</td>\n      <td>0.004462</td>\n    </tr>\n    <tr>\n      <th>66838</th>\n      <td>Центральний Парк. Манхеттен, Нью-Йорк\\n\\nНОВИНА</td>\n      <td>1.000000</td>\n      <td>0.00000</td>\n      <td>0.000000</td>\n    </tr>\n    <tr>\n      <th>155670</th>\n      <td>🇺🇦 Україна виборола першу медаль на чемпіонаті...</td>\n      <td>1.000000</td>\n      <td>0.00000</td>\n      <td>0.000000</td>\n    </tr>\n    <tr>\n      <th>132241</th>\n      <td>☃️Штормовий вітер та дощі: прогноз погоди в У...</td>\n      <td>0.937561</td>\n      <td>0.00000</td>\n      <td>0.062439</td>\n    </tr>\n  </tbody>\n</table>\n</div>"
     },
     "execution_count": 56,
     "metadata": {},
     "output_type": "execute_result"
    }
   ],
   "source": [
    "data_path = \"../data/processed_data_temp.csv\"\n",
    "pickle_path = \"../data/data.pickle\"\n",
    "\n",
    "model_name = \"like_model_ss\"\n",
    "\n",
    "# with open(pickle_path, \"rb\") as f:\n",
    "#     data = pickle.load(f)\n",
    "\n",
    "df = pd.read_csv(data_path)\n",
    "# drop id, source, date, time, views, forwards, containing_media\n",
    "df = df.drop(columns=[\"id\", \"source\", \"date\", \"time\", \"views\", \"forwards\", \"containing_media\", \"sum\"])\n",
    "df = df.dropna()\n",
    "crop_percent = 0.1\n",
    "# select random crop_percent of data\n",
    "df = df.sample(frac=crop_percent, random_state=42)\n",
    "print(f\"Data length: {len(df)}\")\n",
    "df.head()"
   ],
   "metadata": {
    "collapsed": false,
    "ExecuteTime": {
     "end_time": "2023-07-27T18:51:09.502419900Z",
     "start_time": "2023-07-27T18:51:07.464332400Z"
    }
   }
  },
  {
   "cell_type": "code",
   "execution_count": 57,
   "outputs": [
    {
     "name": "stdout",
     "output_type": "stream",
     "text": [
      "Data length: 18726\n",
      "Articles: 18726, Answers: 18726\n",
      "Example: «Сі Цзіньпін каже, що готує Китай до війни. Світ має сприймати його серйозно», – Foreign Affairs \n",
      "\n",
      "Там наголошують, що Сі заявив про намір ще на 7,2% збільшити оборонний бюджет, який і так вже вдвічі зріз за минулі 10 років. Також на ближніх до Тайваню землях будують бомбосховища, намагаються сформувати запаси зерна та створити осередки «Мобілізації національної оборони» по всій країні.\n",
      "\n",
      "Подписаться | @uanovo⚡️ , [0.0631753948462177, 0.0019395954558049, 0.9348850096979772]\n"
     ]
    }
   ],
   "source": [
    "def filter_string_rows(df):\n",
    "    data = []\n",
    "    # Check if row[0] is a string\n",
    "    for row in df.values:\n",
    "        if isinstance(row[0], str):\n",
    "            data.append(row)\n",
    "\n",
    "    print(f\"Data length: {len(data)}\")\n",
    "    return data\n",
    "\n",
    "def clean_data(data):\n",
    "    for i in range(len(data)):\n",
    "        data[i][0] = clean_text(data[i][0])\n",
    "        if i % 1000 == 0:\n",
    "            print(f\"Cleaning: {i + 1}/{len(data)}\", end=\"\\r\")\n",
    "    print(f\"Cleaning: {len(data)}/{len(data)}\")\n",
    "    return data\n",
    "\n",
    "def process_data(data):\n",
    "    for i in range(len(data)):\n",
    "        data[i][0] = replace_numbers(data[i][0])\n",
    "        if i % 1000 == 0:\n",
    "            print(f\"Processing: {i + 1}/{len(data)}\", end=\"\\r\")\n",
    "    print(f\"Processing: {len(data)}/{len(data)}\")\n",
    "    return data\n",
    "\n",
    "def articles_answers_crop(data):\n",
    "    articles = [row[0] for row in data]\n",
    "    answers = [[float(value) for value in row[1:]] for row in data]\n",
    "    return articles, answers\n",
    "\n",
    "\n",
    "data = filter_string_rows(df)\n",
    "articles, answers = articles_answers_crop(data)\n",
    "print(f\"Articles: {len(articles)}, Answers: {len(answers)}\")\n",
    "print(f\"Example: {articles[0]}, {answers[0]}\")"
   ],
   "metadata": {
    "collapsed": false,
    "ExecuteTime": {
     "end_time": "2023-07-27T18:51:09.971327100Z",
     "start_time": "2023-07-27T18:51:09.933635800Z"
    }
   }
  },
  {
   "cell_type": "code",
   "execution_count": 58,
   "outputs": [
    {
     "name": "stdout",
     "output_type": "stream",
     "text": [
      "Train: 17789, Validation: 937\n"
     ]
    }
   ],
   "source": [
    "(train_articles, train_answers), (validation_articles, validation_answers) = split_data(articles, answers, 0.95)\n",
    "print(f\"Train: {len(train_articles)}, Validation: {len(validation_articles)}\")"
   ],
   "metadata": {
    "collapsed": false,
    "ExecuteTime": {
     "end_time": "2023-07-27T18:51:10.362564100Z",
     "start_time": "2023-07-27T18:51:10.328488700Z"
    }
   }
  },
  {
   "cell_type": "code",
   "execution_count": 59,
   "outputs": [
    {
     "name": "stdout",
     "output_type": "stream",
     "text": [
      "Letters: 141\n"
     ]
    }
   ],
   "source": [
    "english_letters = \"abcdefghijklmnopqrstuvwxyz\"\n",
    "ukrainian_letters = \"абвгґдеєжзиіїйклмнопрстуфхцчшщьюя\"\n",
    "russian_letters = \"абвгдеёжзийклмнопрстуфхцчшщъыьэюя\"\n",
    "numbers = \"0123456789\"\n",
    "punctuation = \" .,:;!?\\\"'«»()[]{}<>-–—/\\\\|@#$%^&*№~`+=\\t\\n\"\n",
    "all_letters = english_letters + ukrainian_letters + russian_letters + numbers + punctuation\n",
    "print(f\"Letters: {len(all_letters)}\")"
   ],
   "metadata": {
    "collapsed": false,
    "ExecuteTime": {
     "end_time": "2023-07-27T18:51:10.889279900Z",
     "start_time": "2023-07-27T18:51:10.872251500Z"
    }
   }
  },
  {
   "cell_type": "code",
   "execution_count": 60,
   "outputs": [],
   "source": [
    "vocab_size = len(all_letters)\n",
    "max_length = 1000\n",
    "trunc_type = \"post\"\n",
    "padding_type = \"post\"\n",
    "oov_tok = \"<OOV>\""
   ],
   "metadata": {
    "collapsed": false,
    "ExecuteTime": {
     "end_time": "2023-07-27T18:51:11.291100Z",
     "start_time": "2023-07-27T18:51:11.277583100Z"
    }
   }
  },
  {
   "cell_type": "code",
   "execution_count": 61,
   "outputs": [
    {
     "name": "stdout",
     "output_type": "stream",
     "text": [
      "Word index length: 113\n",
      "Word index: {'<OOV>': 1, 'а': 2, 'б': 3, 'в': 4, 'г': 5, 'д': 6, 'е': 7, 'ж': 8, 'з': 9, 'и': 10, 'й': 11, 'к': 12, 'л': 13, 'м': 14, 'н': 15, 'о': 16, 'п': 17, 'р': 18, 'с': 19, 'т': 20, 'у': 21, 'ф': 22, 'х': 23, 'ц': 24, 'ч': 25, 'ш': 26, 'щ': 27, 'ь': 28, 'ю': 29, 'я': 30, 'a': 31, 'b': 32, 'c': 33, 'd': 34, 'e': 35, 'f': 36, 'g': 37, 'h': 38, 'i': 39, 'j': 40, 'k': 41, 'l': 42, 'm': 43, 'n': 44, 'o': 45, 'p': 46, 'q': 47, 'r': 48, 's': 49, 't': 50, 'u': 51, 'v': 52, 'w': 53, 'x': 54, 'y': 55, 'z': 56, 'ґ': 57, 'є': 58, 'і': 59, 'ї': 60, 'ё': 61, 'ъ': 62, 'ы': 63, 'э': 64, '0': 65, '1': 66, '2': 67, '3': 68, '4': 69, '5': 70, '6': 71, '7': 72, '8': 73, '9': 74, ' ': 75, '.': 76, ',': 77, ':': 78, ';': 79, '!': 80, '?': 81, '\"': 82, \"'\": 83, '«': 84, '»': 85, '(': 86, ')': 87, '[': 88, ']': 89, '{': 90, '}': 91, '<': 92, '>': 93, '-': 94, '–': 95, '—': 96, '/': 97, '\\\\': 98, '|': 99, '@': 100, '#': 101, '$': 102, '%': 103, '^': 104, '&': 105, '*': 106, '№': 107, '~': 108, '`': 109, '+': 110, '=': 111, '\\t': 112, '\\n': 113}\n"
     ]
    }
   ],
   "source": [
    "# make tokenizer vocabulary from all letters\n",
    "tokenizer = Tokenizer(num_words=vocab_size, oov_token=oov_tok, char_level=True, filters=\"\")\n",
    "tokenizer.fit_on_texts(all_letters)\n",
    "word_index = tokenizer.word_index\n",
    "print(f\"Word index length: {len(word_index)}\")\n",
    "print(f\"Word index: {word_index}\")"
   ],
   "metadata": {
    "collapsed": false,
    "ExecuteTime": {
     "end_time": "2023-07-27T18:51:11.647952100Z",
     "start_time": "2023-07-27T18:51:11.642441500Z"
    }
   }
  },
  {
   "cell_type": "code",
   "execution_count": 62,
   "outputs": [
    {
     "name": "stdout",
     "output_type": "stream",
     "text": [
      "Min letters: 1, Max letters: 3885, Mean letters: 294.42390259532203\n"
     ]
    }
   ],
   "source": [
    "def letters_per_article(articles):\n",
    "    # return min, max, mean\n",
    "    lengths = [len(article) for article in articles]\n",
    "    return min(lengths), max(lengths), sum(lengths) / len(lengths)\n",
    "\n",
    "min_letters, max_letters, mean_letters = letters_per_article(articles)\n",
    "print(f\"Min letters: {min_letters}, Max letters: {max_letters}, Mean letters: {mean_letters}\")"
   ],
   "metadata": {
    "collapsed": false,
    "ExecuteTime": {
     "end_time": "2023-07-27T18:51:12.236811500Z",
     "start_time": "2023-07-27T18:51:12.219486500Z"
    }
   }
  },
  {
   "cell_type": "code",
   "execution_count": 63,
   "outputs": [
    {
     "data": {
      "text/plain": "<Figure size 640x480 with 1 Axes>",
      "image/png": "[encoded data removed]"
     },
     "metadata": {},
     "output_type": "display_data"
    }
   ],
   "source": [
    "# plot distribution of letters per article\n",
    "plt.hist([len(article) for article in articles], bins=100)\n",
    "plt.xlabel(\"Letters\")\n",
    "plt.ylabel(\"Articles\")\n",
    "plt.show()"
   ],
   "metadata": {
    "collapsed": false,
    "ExecuteTime": {
     "end_time": "2023-07-27T18:51:13.575665100Z",
     "start_time": "2023-07-27T18:51:13.322862Z"
    }
   }
  },
  {
   "cell_type": "code",
   "execution_count": 64,
   "outputs": [
    {
     "name": "stdout",
     "output_type": "stream",
     "text": [
      "Train padded shape: (17789, 1000), Validation padded shape: (937, 1000)\n"
     ]
    }
   ],
   "source": [
    "train_padded = pad_sequences(tokenizer.texts_to_sequences(train_articles),\n",
    "                             maxlen=max_length, padding=padding_type, truncating=trunc_type)\n",
    "validation_padded = pad_sequences(tokenizer.texts_to_sequences(validation_articles),\n",
    "                                  maxlen=max_length, padding=padding_type, truncating=trunc_type)\n",
    "print(f\"Train padded shape: {train_padded.shape}, Validation padded shape: {validation_padded.shape}\")"
   ],
   "metadata": {
    "collapsed": false,
    "ExecuteTime": {
     "end_time": "2023-07-27T18:51:15.429421200Z",
     "start_time": "2023-07-27T18:51:14.242028300Z"
    }
   }
  },
  {
   "cell_type": "code",
   "execution_count": 65,
   "outputs": [],
   "source": [
    "train_answers = np.array(train_answers)\n",
    "validation_answers = np.array(validation_answers)"
   ],
   "metadata": {
    "collapsed": false,
    "ExecuteTime": {
     "end_time": "2023-07-27T18:51:15.504781Z",
     "start_time": "2023-07-27T18:51:15.449459700Z"
    }
   }
  },
  {
   "cell_type": "code",
   "execution_count": 66,
   "outputs": [
    {
     "name": "stdout",
     "output_type": "stream",
     "text": [
      "Article: Чергове ракетне шоу КНДР. Кім Чен Ин провів випробування 4 Hwasal-2, щоб показати, якою може бути ядерна контратака. Запуск відбувся в той час, коли офіційні особи США і Південної Кореї брали участь у навчаннях, через можливу агресію комуністичного сусіда, – Reuters.\n",
      "\n",
      "Times of Ukraine \n",
      "Article padded: [25  7 18  5 16  4  7 75 18  2 12  7 20 15  7 75 26 16 21 75 12 15  6 18\n",
      " 76 75 12 59 14 75 25  7 15 75 10 15 75 17 18 16  4 59  4 75  4 10 17 18\n",
      " 16  3 21  4  2 15 15 30 75 69 75 38 53 31 49 31 42 94 67 77 75 27 16  3\n",
      " 75 17 16 12  2  9  2 20 10 77 75 30 12 16 29 75 14 16  8  7 75  3 21 20\n",
      " 10 75 30  6]...[0 0 0 0 0 0 0 0 0 0 0 0 0 0 0 0 0 0 0 0 0 0 0 0 0 0 0 0 0 0 0 0 0 0 0 0 0\n",
      " 0 0 0 0 0 0 0 0 0 0 0 0 0 0 0 0 0 0 0 0 0 0 0 0 0 0 0 0 0 0 0 0 0 0 0 0 0\n",
      " 0 0 0 0 0 0 0 0 0 0 0 0 0 0 0 0 0 0 0 0 0 0 0 0 0 0]\n",
      "Answer: [0.05172414 0.66540948 0.28286638]\n",
      "\n",
      "Article:  Колаборант Сальдо ще не здох. \n",
      "Мої джерела підтверджують, що його вивезли у окупований Крим із підозрою на інсульт. \n",
      "\n",
      "Хз, може з‘їв щось не те. Молочку зіпсовану або хліб з пліснявою😉\n",
      "Article padded: [ 75  12  16  13   2   3  16  18   2  15  20  75  19   2  13  28   6  16\n",
      "  75  27   7  75  15   7  75   9   6  16  23  76  75 113  14  16  60  75\n",
      "   6   8   7  18   7  13   2  75  17  59   6  20   4   7  18   6   8  21\n",
      "  29  20  28  77  75  27  16  75  11  16   5  16  75   4  10   4   7   9\n",
      "  13  10  75  21  75  16  12  21  17  16   4   2  15  10  11  75  12  18\n",
      "  10  14  75  59   9  75  17  59   6  16]...[0 0 0 0 0 0 0 0 0 0 0 0 0 0 0 0 0 0 0 0 0 0 0 0 0 0 0 0 0 0 0 0 0 0 0 0 0\n",
      " 0 0 0 0 0 0 0 0 0 0 0 0 0 0 0 0 0 0 0 0 0 0 0 0 0 0 0 0 0 0 0 0 0 0 0 0 0\n",
      " 0 0 0 0 0 0 0 0 0 0 0 0 0 0 0 0 0 0 0 0 0 0 0 0 0 0]\n",
      "Answer: [0.99596825 0.         0.00403175]\n",
      "\n",
      "Article: російські олігархи хочуть стати громадянами України, - повідомляє Глава НАЗК Новіков.\n",
      "\n",
      "За його словами, зокрема мільярдер Михайло Фрідман, який є засновником «Альфа груп», захотів отримати українське громадянство. Наразі він консультується з українською владою щодо його отримання та перереєстрації основних активів в Україні.\n",
      "\n",
      "НОВИНА \n",
      "Article padded: [ 18  16  19  59  11  19  28  12  59  75  16  13  59   5   2  18  23  10\n",
      "  75  23  16  25  21  20  28  75  19  20   2  20  10  75   5  18  16  14\n",
      "   2   6  30  15   2  14  10  75  21  12  18   2  60  15  10  77  75  94\n",
      "  75  17  16   4  59   6  16  14  13  30  58  75   5  13   2   4   2  75\n",
      "  15   2   9  12  75  15  16   4  59  12  16   4  76 113 113   9   2  75\n",
      "  11  16   5  16  75  19  13  16   4   2]...[0 0 0 0 0 0 0 0 0 0 0 0 0 0 0 0 0 0 0 0 0 0 0 0 0 0 0 0 0 0 0 0 0 0 0 0 0\n",
      " 0 0 0 0 0 0 0 0 0 0 0 0 0 0 0 0 0 0 0 0 0 0 0 0 0 0 0 0 0 0 0 0 0 0 0 0 0\n",
      " 0 0 0 0 0 0 0 0 0 0 0 0 0 0 0 0 0 0 0 0 0 0 0 0 0 0]\n",
      "Answer: [0.25041186 0.         0.74958814]\n",
      "\n",
      "Article: В Дніпрі врятували жінку з-під завалів. Вони почули її голос про допомогу.\n",
      "\n",
      "Доброго вечора, ми з України | Підписатись \n",
      "Article padded: [  4  75   6  15  59  17  18  59  75   4  18  30  20  21   4   2  13  10\n",
      "  75   8  59  15  12  21  75   9  94  17  59   6  75   9   2   4   2  13\n",
      "  59   4  76  75   4  16  15  10  75  17  16  25  21  13  10  75  60  60\n",
      "  75   5  16  13  16  19  75  17  18  16  75   6  16  17  16  14  16   5\n",
      "  21  76 113 113   6  16   3  18  16   5  16  75   4   7  25  16  18   2\n",
      "  77  75  14  10  75   9  75  21  12  18]...[0 0 0 0 0 0 0 0 0 0 0 0 0 0 0 0 0 0 0 0 0 0 0 0 0 0 0 0 0 0 0 0 0 0 0 0 0\n",
      " 0 0 0 0 0 0 0 0 0 0 0 0 0 0 0 0 0 0 0 0 0 0 0 0 0 0 0 0 0 0 0 0 0 0 0 0 0\n",
      " 0 0 0 0 0 0 0 0 0 0 0 0 0 0 0 0 0 0 0 0 0 0 0 0 0 0]\n",
      "Answer: [0.99591982 0.         0.00408018]\n",
      "\n",
      "Article: РФ готує теракти на об'єктах критичної інфраструктури Білорусі\n",
      "\n",
      "Найближчим часом на території Білорусі заплановано проведення низки терактів – штучно спровокованих техногенних катастроф. \n",
      "\n",
      "Це нібито має прискорити втягування білоруської армії у війну в Україні за окупантів.\n",
      "\n",
      "Доброго вечора, ми з України | Підписатись \n",
      "Article padded: [ 18  22  75   5  16  20  21  58  75  20   7  18   2  12  20  10  75  15\n",
      "   2  75  16   3  83  58  12  20   2  23  75  12  18  10  20  10  25  15\n",
      "  16  60  75  59  15  22  18   2  19  20  18  21  12  20  21  18  10  75\n",
      "   3  59  13  16  18  21  19  59 113 113  15   2  11   3  13  10   8  25\n",
      "  10  14  75  25   2  19  16  14  75  15   2  75  20   7  18  10  20  16\n",
      "  18  59  60  75   3  59  13  16  18  21]...[0 0 0 0 0 0 0 0 0 0 0 0 0 0 0 0 0 0 0 0 0 0 0 0 0 0 0 0 0 0 0 0 0 0 0 0 0\n",
      " 0 0 0 0 0 0 0 0 0 0 0 0 0 0 0 0 0 0 0 0 0 0 0 0 0 0 0 0 0 0 0 0 0 0 0 0 0\n",
      " 0 0 0 0 0 0 0 0 0 0 0 0 0 0 0 0 0 0 0 0 0 0 0 0 0 0]\n",
      "Answer: [0.0873446 0.        0.9126554]\n",
      "\n"
     ]
    }
   ],
   "source": [
    "# print some examples\n",
    "for i in range(5):\n",
    "    print(f\"Article: {train_articles[i]}\")\n",
    "    print(f\"Article padded: {train_padded[i][:100]}...{train_padded[i][-100:]}\")\n",
    "    print(f\"Answer: {train_answers[i]}\")\n",
    "    print()"
   ],
   "metadata": {
    "collapsed": false,
    "ExecuteTime": {
     "end_time": "2023-07-27T18:51:15.894848900Z",
     "start_time": "2023-07-27T18:51:15.883336700Z"
    }
   }
  },
  {
   "cell_type": "code",
   "execution_count": 72,
   "outputs": [
    {
     "name": "stdout",
     "output_type": "stream",
     "text": [
      "Model: \"model_16\"\n",
      "_________________________________________________________________\n",
      " Layer (type)                Output Shape              Param #   \n",
      "=================================================================\n",
      " input_19 (InputLayer)       [(None, 1000)]            0         \n",
      "                                                                 \n",
      " embedding_18 (Embedding)    (None, 1000, 4)           564       \n",
      "                                                                 \n",
      " lstm_9 (LSTM)               (None, 128)               68096     \n",
      "                                                                 \n",
      " flatten_13 (Flatten)        (None, 128)               0         \n",
      "                                                                 \n",
      " dense_34 (Dense)            (None, 32)                4128      \n",
      "                                                                 \n",
      " dropout_16 (Dropout)        (None, 32)                0         \n",
      "                                                                 \n",
      " dense_35 (Dense)            (None, 3)                 99        \n",
      "                                                                 \n",
      "=================================================================\n",
      "Total params: 72,887\n",
      "Trainable params: 72,887\n",
      "Non-trainable params: 0\n",
      "_________________________________________________________________\n"
     ]
    }
   ],
   "source": [
    "import keras.layers as L\n",
    "\n",
    "def create_model(vocab_size, embedding_dim, max_length):\n",
    "    input = L.Input(shape=(max_length,))\n",
    "    x = L.Embedding(vocab_size, embedding_dim)(input)\n",
    "    # for i in range(3):\n",
    "    #     x = L.Conv1D(32, 5, activation=\"relu\")(x)\n",
    "    #     x = L.MaxPooling1D(5)(x)\n",
    "    x = L.LSTM(128)(x)\n",
    "    x = L.Flatten()(x)\n",
    "    # x = L.Dense(64, activation=\"relu\")(x)\n",
    "    x = L.Dense(32, activation=\"relu\")(x)\n",
    "    x = L.Dropout(0.1)(x)\n",
    "    output = L.Dense(3, activation=\"sigmoid\")(x)\n",
    "    model = tf.keras.Model(inputs=input, outputs=output)\n",
    "    return model\n",
    "\n",
    "model = create_model(vocab_size, 4, max_length)\n",
    "\n",
    "loss = tf.keras.losses.KLDivergence()\n",
    "optimizer = tf.keras.optimizers.Adam(learning_rate=1e-4)\n",
    "metrics = [\"accuracy\"]\n",
    "model.compile(loss=loss, optimizer=optimizer, metrics=metrics)\n",
    "\n",
    "model.summary()"
   ],
   "metadata": {
    "collapsed": false,
    "ExecuteTime": {
     "end_time": "2023-07-27T18:54:49.505510300Z",
     "start_time": "2023-07-27T18:54:49.308531600Z"
    }
   }
  },
  {
   "cell_type": "code",
   "execution_count": 73,
   "outputs": [
    {
     "name": "stdout",
     "output_type": "stream",
     "text": [
      "Epoch 1/10\n",
      "18/18 [==============================] - 147s 8s/step - loss: 0.4477 - accuracy: 0.6153 - val_loss: 0.4261 - val_accuracy: 0.5880\n",
      "Epoch 2/10\n",
      "18/18 [==============================] - 162s 9s/step - loss: 0.4300 - accuracy: 0.6155 - val_loss: 0.3990 - val_accuracy: 0.5880\n",
      "Epoch 3/10\n",
      " 6/18 [=========>....................] - ETA: 1:55 - loss: 0.4066 - accuracy: 0.6146"
     ]
    },
    {
     "ename": "KeyboardInterrupt",
     "evalue": "",
     "output_type": "error",
     "traceback": [
      "\u001B[1;31m---------------------------------------------------------------------------\u001B[0m",
      "\u001B[1;31mKeyboardInterrupt\u001B[0m                         Traceback (most recent call last)",
      "Cell \u001B[1;32mIn[73], line 11\u001B[0m\n\u001B[0;32m      2\u001B[0m batch_size \u001B[38;5;241m=\u001B[39m \u001B[38;5;241m1024\u001B[39m\n\u001B[0;32m      3\u001B[0m checkpoint_callback \u001B[38;5;241m=\u001B[39m tf\u001B[38;5;241m.\u001B[39mkeras\u001B[38;5;241m.\u001B[39mcallbacks\u001B[38;5;241m.\u001B[39mModelCheckpoint(\n\u001B[0;32m      4\u001B[0m     filepath\u001B[38;5;241m=\u001B[39m\u001B[38;5;124mf\u001B[39m\u001B[38;5;124m\"\u001B[39m\u001B[38;5;124m../models/\u001B[39m\u001B[38;5;132;01m{\u001B[39;00mmodel_name\u001B[38;5;132;01m}\u001B[39;00m\u001B[38;5;124m_checkpoint.h5\u001B[39m\u001B[38;5;124m\"\u001B[39m,\n\u001B[0;32m      5\u001B[0m     save_weights_only\u001B[38;5;241m=\u001B[39m\u001B[38;5;28;01mFalse\u001B[39;00m,\n\u001B[1;32m   (...)\u001B[0m\n\u001B[0;32m      8\u001B[0m     save_best_only\u001B[38;5;241m=\u001B[39m\u001B[38;5;28;01mTrue\u001B[39;00m\n\u001B[0;32m      9\u001B[0m )\n\u001B[1;32m---> 11\u001B[0m history \u001B[38;5;241m=\u001B[39m \u001B[43mmodel\u001B[49m\u001B[38;5;241;43m.\u001B[39;49m\u001B[43mfit\u001B[49m\u001B[43m(\u001B[49m\n\u001B[0;32m     12\u001B[0m \u001B[43m    \u001B[49m\u001B[43mtrain_padded\u001B[49m\u001B[43m,\u001B[49m\u001B[43m \u001B[49m\u001B[43mtrain_answers\u001B[49m\u001B[43m,\u001B[49m\n\u001B[0;32m     13\u001B[0m \u001B[43m    \u001B[49m\u001B[43mepochs\u001B[49m\u001B[38;5;241;43m=\u001B[39;49m\u001B[43mepochs\u001B[49m\u001B[43m,\u001B[49m\n\u001B[0;32m     14\u001B[0m \u001B[43m    \u001B[49m\u001B[43mbatch_size\u001B[49m\u001B[38;5;241;43m=\u001B[39;49m\u001B[43mbatch_size\u001B[49m\u001B[43m,\u001B[49m\n\u001B[0;32m     15\u001B[0m \u001B[43m    \u001B[49m\u001B[43mvalidation_data\u001B[49m\u001B[38;5;241;43m=\u001B[39;49m\u001B[43m(\u001B[49m\u001B[43mvalidation_padded\u001B[49m\u001B[43m,\u001B[49m\u001B[43m \u001B[49m\u001B[43mvalidation_answers\u001B[49m\u001B[43m)\u001B[49m\u001B[43m,\u001B[49m\n\u001B[0;32m     16\u001B[0m \u001B[43m    \u001B[49m\u001B[43mcallbacks\u001B[49m\u001B[38;5;241;43m=\u001B[39;49m\u001B[43m[\u001B[49m\u001B[43mcheckpoint_callback\u001B[49m\u001B[43m]\u001B[49m\n\u001B[0;32m     17\u001B[0m \u001B[43m)\u001B[49m\n",
      "File \u001B[1;32mC:\\Coding\\Python\\_pythonEnvironment\\Python3.10\\lib\\site-packages\\keras\\utils\\traceback_utils.py:65\u001B[0m, in \u001B[0;36mfilter_traceback.<locals>.error_handler\u001B[1;34m(*args, **kwargs)\u001B[0m\n\u001B[0;32m     63\u001B[0m filtered_tb \u001B[38;5;241m=\u001B[39m \u001B[38;5;28;01mNone\u001B[39;00m\n\u001B[0;32m     64\u001B[0m \u001B[38;5;28;01mtry\u001B[39;00m:\n\u001B[1;32m---> 65\u001B[0m     \u001B[38;5;28;01mreturn\u001B[39;00m fn(\u001B[38;5;241m*\u001B[39margs, \u001B[38;5;241m*\u001B[39m\u001B[38;5;241m*\u001B[39mkwargs)\n\u001B[0;32m     66\u001B[0m \u001B[38;5;28;01mexcept\u001B[39;00m \u001B[38;5;167;01mException\u001B[39;00m \u001B[38;5;28;01mas\u001B[39;00m e:\n\u001B[0;32m     67\u001B[0m     filtered_tb \u001B[38;5;241m=\u001B[39m _process_traceback_frames(e\u001B[38;5;241m.\u001B[39m__traceback__)\n",
      "File \u001B[1;32mC:\\Coding\\Python\\_pythonEnvironment\\Python3.10\\lib\\site-packages\\keras\\engine\\training.py:1685\u001B[0m, in \u001B[0;36mModel.fit\u001B[1;34m(self, x, y, batch_size, epochs, verbose, callbacks, validation_split, validation_data, shuffle, class_weight, sample_weight, initial_epoch, steps_per_epoch, validation_steps, validation_batch_size, validation_freq, max_queue_size, workers, use_multiprocessing)\u001B[0m\n\u001B[0;32m   1677\u001B[0m \u001B[38;5;28;01mwith\u001B[39;00m tf\u001B[38;5;241m.\u001B[39mprofiler\u001B[38;5;241m.\u001B[39mexperimental\u001B[38;5;241m.\u001B[39mTrace(\n\u001B[0;32m   1678\u001B[0m     \u001B[38;5;124m\"\u001B[39m\u001B[38;5;124mtrain\u001B[39m\u001B[38;5;124m\"\u001B[39m,\n\u001B[0;32m   1679\u001B[0m     epoch_num\u001B[38;5;241m=\u001B[39mepoch,\n\u001B[1;32m   (...)\u001B[0m\n\u001B[0;32m   1682\u001B[0m     _r\u001B[38;5;241m=\u001B[39m\u001B[38;5;241m1\u001B[39m,\n\u001B[0;32m   1683\u001B[0m ):\n\u001B[0;32m   1684\u001B[0m     callbacks\u001B[38;5;241m.\u001B[39mon_train_batch_begin(step)\n\u001B[1;32m-> 1685\u001B[0m     tmp_logs \u001B[38;5;241m=\u001B[39m \u001B[38;5;28;43mself\u001B[39;49m\u001B[38;5;241;43m.\u001B[39;49m\u001B[43mtrain_function\u001B[49m\u001B[43m(\u001B[49m\u001B[43miterator\u001B[49m\u001B[43m)\u001B[49m\n\u001B[0;32m   1686\u001B[0m     \u001B[38;5;28;01mif\u001B[39;00m data_handler\u001B[38;5;241m.\u001B[39mshould_sync:\n\u001B[0;32m   1687\u001B[0m         context\u001B[38;5;241m.\u001B[39masync_wait()\n",
      "File \u001B[1;32mC:\\Coding\\Python\\_pythonEnvironment\\Python3.10\\lib\\site-packages\\tensorflow\\python\\util\\traceback_utils.py:150\u001B[0m, in \u001B[0;36mfilter_traceback.<locals>.error_handler\u001B[1;34m(*args, **kwargs)\u001B[0m\n\u001B[0;32m    148\u001B[0m filtered_tb \u001B[38;5;241m=\u001B[39m \u001B[38;5;28;01mNone\u001B[39;00m\n\u001B[0;32m    149\u001B[0m \u001B[38;5;28;01mtry\u001B[39;00m:\n\u001B[1;32m--> 150\u001B[0m   \u001B[38;5;28;01mreturn\u001B[39;00m fn(\u001B[38;5;241m*\u001B[39margs, \u001B[38;5;241m*\u001B[39m\u001B[38;5;241m*\u001B[39mkwargs)\n\u001B[0;32m    151\u001B[0m \u001B[38;5;28;01mexcept\u001B[39;00m \u001B[38;5;167;01mException\u001B[39;00m \u001B[38;5;28;01mas\u001B[39;00m e:\n\u001B[0;32m    152\u001B[0m   filtered_tb \u001B[38;5;241m=\u001B[39m _process_traceback_frames(e\u001B[38;5;241m.\u001B[39m__traceback__)\n",
      "File \u001B[1;32mC:\\Coding\\Python\\_pythonEnvironment\\Python3.10\\lib\\site-packages\\tensorflow\\python\\eager\\polymorphic_function\\polymorphic_function.py:894\u001B[0m, in \u001B[0;36mFunction.__call__\u001B[1;34m(self, *args, **kwds)\u001B[0m\n\u001B[0;32m    891\u001B[0m compiler \u001B[38;5;241m=\u001B[39m \u001B[38;5;124m\"\u001B[39m\u001B[38;5;124mxla\u001B[39m\u001B[38;5;124m\"\u001B[39m \u001B[38;5;28;01mif\u001B[39;00m \u001B[38;5;28mself\u001B[39m\u001B[38;5;241m.\u001B[39m_jit_compile \u001B[38;5;28;01melse\u001B[39;00m \u001B[38;5;124m\"\u001B[39m\u001B[38;5;124mnonXla\u001B[39m\u001B[38;5;124m\"\u001B[39m\n\u001B[0;32m    893\u001B[0m \u001B[38;5;28;01mwith\u001B[39;00m OptionalXlaContext(\u001B[38;5;28mself\u001B[39m\u001B[38;5;241m.\u001B[39m_jit_compile):\n\u001B[1;32m--> 894\u001B[0m   result \u001B[38;5;241m=\u001B[39m \u001B[38;5;28mself\u001B[39m\u001B[38;5;241m.\u001B[39m_call(\u001B[38;5;241m*\u001B[39margs, \u001B[38;5;241m*\u001B[39m\u001B[38;5;241m*\u001B[39mkwds)\n\u001B[0;32m    896\u001B[0m new_tracing_count \u001B[38;5;241m=\u001B[39m \u001B[38;5;28mself\u001B[39m\u001B[38;5;241m.\u001B[39mexperimental_get_tracing_count()\n\u001B[0;32m    897\u001B[0m without_tracing \u001B[38;5;241m=\u001B[39m (tracing_count \u001B[38;5;241m==\u001B[39m new_tracing_count)\n",
      "File \u001B[1;32mC:\\Coding\\Python\\_pythonEnvironment\\Python3.10\\lib\\site-packages\\tensorflow\\python\\eager\\polymorphic_function\\polymorphic_function.py:926\u001B[0m, in \u001B[0;36mFunction._call\u001B[1;34m(self, *args, **kwds)\u001B[0m\n\u001B[0;32m    923\u001B[0m   \u001B[38;5;28mself\u001B[39m\u001B[38;5;241m.\u001B[39m_lock\u001B[38;5;241m.\u001B[39mrelease()\n\u001B[0;32m    924\u001B[0m   \u001B[38;5;66;03m# In this case we have created variables on the first call, so we run the\u001B[39;00m\n\u001B[0;32m    925\u001B[0m   \u001B[38;5;66;03m# defunned version which is guaranteed to never create variables.\u001B[39;00m\n\u001B[1;32m--> 926\u001B[0m   \u001B[38;5;28;01mreturn\u001B[39;00m \u001B[38;5;28mself\u001B[39m\u001B[38;5;241m.\u001B[39m_no_variable_creation_fn(\u001B[38;5;241m*\u001B[39margs, \u001B[38;5;241m*\u001B[39m\u001B[38;5;241m*\u001B[39mkwds)  \u001B[38;5;66;03m# pylint: disable=not-callable\u001B[39;00m\n\u001B[0;32m    927\u001B[0m \u001B[38;5;28;01melif\u001B[39;00m \u001B[38;5;28mself\u001B[39m\u001B[38;5;241m.\u001B[39m_variable_creation_fn \u001B[38;5;129;01mis\u001B[39;00m \u001B[38;5;129;01mnot\u001B[39;00m \u001B[38;5;28;01mNone\u001B[39;00m:\n\u001B[0;32m    928\u001B[0m   \u001B[38;5;66;03m# Release the lock early so that multiple threads can perform the call\u001B[39;00m\n\u001B[0;32m    929\u001B[0m   \u001B[38;5;66;03m# in parallel.\u001B[39;00m\n\u001B[0;32m    930\u001B[0m   \u001B[38;5;28mself\u001B[39m\u001B[38;5;241m.\u001B[39m_lock\u001B[38;5;241m.\u001B[39mrelease()\n",
      "File \u001B[1;32mC:\\Coding\\Python\\_pythonEnvironment\\Python3.10\\lib\\site-packages\\tensorflow\\python\\eager\\polymorphic_function\\tracing_compiler.py:143\u001B[0m, in \u001B[0;36mTracingCompiler.__call__\u001B[1;34m(self, *args, **kwargs)\u001B[0m\n\u001B[0;32m    140\u001B[0m \u001B[38;5;28;01mwith\u001B[39;00m \u001B[38;5;28mself\u001B[39m\u001B[38;5;241m.\u001B[39m_lock:\n\u001B[0;32m    141\u001B[0m   (concrete_function,\n\u001B[0;32m    142\u001B[0m    filtered_flat_args) \u001B[38;5;241m=\u001B[39m \u001B[38;5;28mself\u001B[39m\u001B[38;5;241m.\u001B[39m_maybe_define_function(args, kwargs)\n\u001B[1;32m--> 143\u001B[0m \u001B[38;5;28;01mreturn\u001B[39;00m \u001B[43mconcrete_function\u001B[49m\u001B[38;5;241;43m.\u001B[39;49m\u001B[43m_call_flat\u001B[49m\u001B[43m(\u001B[49m\n\u001B[0;32m    144\u001B[0m \u001B[43m    \u001B[49m\u001B[43mfiltered_flat_args\u001B[49m\u001B[43m,\u001B[49m\u001B[43m \u001B[49m\u001B[43mcaptured_inputs\u001B[49m\u001B[38;5;241;43m=\u001B[39;49m\u001B[43mconcrete_function\u001B[49m\u001B[38;5;241;43m.\u001B[39;49m\u001B[43mcaptured_inputs\u001B[49m\u001B[43m)\u001B[49m\n",
      "File \u001B[1;32mC:\\Coding\\Python\\_pythonEnvironment\\Python3.10\\lib\\site-packages\\tensorflow\\python\\eager\\polymorphic_function\\monomorphic_function.py:1757\u001B[0m, in \u001B[0;36mConcreteFunction._call_flat\u001B[1;34m(self, args, captured_inputs, cancellation_manager)\u001B[0m\n\u001B[0;32m   1753\u001B[0m possible_gradient_type \u001B[38;5;241m=\u001B[39m gradients_util\u001B[38;5;241m.\u001B[39mPossibleTapeGradientTypes(args)\n\u001B[0;32m   1754\u001B[0m \u001B[38;5;28;01mif\u001B[39;00m (possible_gradient_type \u001B[38;5;241m==\u001B[39m gradients_util\u001B[38;5;241m.\u001B[39mPOSSIBLE_GRADIENT_TYPES_NONE\n\u001B[0;32m   1755\u001B[0m     \u001B[38;5;129;01mand\u001B[39;00m executing_eagerly):\n\u001B[0;32m   1756\u001B[0m   \u001B[38;5;66;03m# No tape is watching; skip to running the function.\u001B[39;00m\n\u001B[1;32m-> 1757\u001B[0m   \u001B[38;5;28;01mreturn\u001B[39;00m \u001B[38;5;28mself\u001B[39m\u001B[38;5;241m.\u001B[39m_build_call_outputs(\u001B[38;5;28;43mself\u001B[39;49m\u001B[38;5;241;43m.\u001B[39;49m\u001B[43m_inference_function\u001B[49m\u001B[38;5;241;43m.\u001B[39;49m\u001B[43mcall\u001B[49m\u001B[43m(\u001B[49m\n\u001B[0;32m   1758\u001B[0m \u001B[43m      \u001B[49m\u001B[43mctx\u001B[49m\u001B[43m,\u001B[49m\u001B[43m \u001B[49m\u001B[43margs\u001B[49m\u001B[43m,\u001B[49m\u001B[43m \u001B[49m\u001B[43mcancellation_manager\u001B[49m\u001B[38;5;241;43m=\u001B[39;49m\u001B[43mcancellation_manager\u001B[49m\u001B[43m)\u001B[49m)\n\u001B[0;32m   1759\u001B[0m forward_backward \u001B[38;5;241m=\u001B[39m \u001B[38;5;28mself\u001B[39m\u001B[38;5;241m.\u001B[39m_select_forward_and_backward_functions(\n\u001B[0;32m   1760\u001B[0m     args,\n\u001B[0;32m   1761\u001B[0m     possible_gradient_type,\n\u001B[0;32m   1762\u001B[0m     executing_eagerly)\n\u001B[0;32m   1763\u001B[0m forward_function, args_with_tangents \u001B[38;5;241m=\u001B[39m forward_backward\u001B[38;5;241m.\u001B[39mforward()\n",
      "File \u001B[1;32mC:\\Coding\\Python\\_pythonEnvironment\\Python3.10\\lib\\site-packages\\tensorflow\\python\\eager\\polymorphic_function\\monomorphic_function.py:381\u001B[0m, in \u001B[0;36m_EagerDefinedFunction.call\u001B[1;34m(self, ctx, args, cancellation_manager)\u001B[0m\n\u001B[0;32m    379\u001B[0m \u001B[38;5;28;01mwith\u001B[39;00m _InterpolateFunctionError(\u001B[38;5;28mself\u001B[39m):\n\u001B[0;32m    380\u001B[0m   \u001B[38;5;28;01mif\u001B[39;00m cancellation_manager \u001B[38;5;129;01mis\u001B[39;00m \u001B[38;5;28;01mNone\u001B[39;00m:\n\u001B[1;32m--> 381\u001B[0m     outputs \u001B[38;5;241m=\u001B[39m \u001B[43mexecute\u001B[49m\u001B[38;5;241;43m.\u001B[39;49m\u001B[43mexecute\u001B[49m\u001B[43m(\u001B[49m\n\u001B[0;32m    382\u001B[0m \u001B[43m        \u001B[49m\u001B[38;5;28;43mstr\u001B[39;49m\u001B[43m(\u001B[49m\u001B[38;5;28;43mself\u001B[39;49m\u001B[38;5;241;43m.\u001B[39;49m\u001B[43msignature\u001B[49m\u001B[38;5;241;43m.\u001B[39;49m\u001B[43mname\u001B[49m\u001B[43m)\u001B[49m\u001B[43m,\u001B[49m\n\u001B[0;32m    383\u001B[0m \u001B[43m        \u001B[49m\u001B[43mnum_outputs\u001B[49m\u001B[38;5;241;43m=\u001B[39;49m\u001B[38;5;28;43mself\u001B[39;49m\u001B[38;5;241;43m.\u001B[39;49m\u001B[43m_num_outputs\u001B[49m\u001B[43m,\u001B[49m\n\u001B[0;32m    384\u001B[0m \u001B[43m        \u001B[49m\u001B[43minputs\u001B[49m\u001B[38;5;241;43m=\u001B[39;49m\u001B[43margs\u001B[49m\u001B[43m,\u001B[49m\n\u001B[0;32m    385\u001B[0m \u001B[43m        \u001B[49m\u001B[43mattrs\u001B[49m\u001B[38;5;241;43m=\u001B[39;49m\u001B[43mattrs\u001B[49m\u001B[43m,\u001B[49m\n\u001B[0;32m    386\u001B[0m \u001B[43m        \u001B[49m\u001B[43mctx\u001B[49m\u001B[38;5;241;43m=\u001B[39;49m\u001B[43mctx\u001B[49m\u001B[43m)\u001B[49m\n\u001B[0;32m    387\u001B[0m   \u001B[38;5;28;01melse\u001B[39;00m:\n\u001B[0;32m    388\u001B[0m     outputs \u001B[38;5;241m=\u001B[39m execute\u001B[38;5;241m.\u001B[39mexecute_with_cancellation(\n\u001B[0;32m    389\u001B[0m         \u001B[38;5;28mstr\u001B[39m(\u001B[38;5;28mself\u001B[39m\u001B[38;5;241m.\u001B[39msignature\u001B[38;5;241m.\u001B[39mname),\n\u001B[0;32m    390\u001B[0m         num_outputs\u001B[38;5;241m=\u001B[39m\u001B[38;5;28mself\u001B[39m\u001B[38;5;241m.\u001B[39m_num_outputs,\n\u001B[1;32m   (...)\u001B[0m\n\u001B[0;32m    393\u001B[0m         ctx\u001B[38;5;241m=\u001B[39mctx,\n\u001B[0;32m    394\u001B[0m         cancellation_manager\u001B[38;5;241m=\u001B[39mcancellation_manager)\n",
      "File \u001B[1;32mC:\\Coding\\Python\\_pythonEnvironment\\Python3.10\\lib\\site-packages\\tensorflow\\python\\eager\\execute.py:52\u001B[0m, in \u001B[0;36mquick_execute\u001B[1;34m(op_name, num_outputs, inputs, attrs, ctx, name)\u001B[0m\n\u001B[0;32m     50\u001B[0m \u001B[38;5;28;01mtry\u001B[39;00m:\n\u001B[0;32m     51\u001B[0m   ctx\u001B[38;5;241m.\u001B[39mensure_initialized()\n\u001B[1;32m---> 52\u001B[0m   tensors \u001B[38;5;241m=\u001B[39m \u001B[43mpywrap_tfe\u001B[49m\u001B[38;5;241;43m.\u001B[39;49m\u001B[43mTFE_Py_Execute\u001B[49m\u001B[43m(\u001B[49m\u001B[43mctx\u001B[49m\u001B[38;5;241;43m.\u001B[39;49m\u001B[43m_handle\u001B[49m\u001B[43m,\u001B[49m\u001B[43m \u001B[49m\u001B[43mdevice_name\u001B[49m\u001B[43m,\u001B[49m\u001B[43m \u001B[49m\u001B[43mop_name\u001B[49m\u001B[43m,\u001B[49m\n\u001B[0;32m     53\u001B[0m \u001B[43m                                      \u001B[49m\u001B[43minputs\u001B[49m\u001B[43m,\u001B[49m\u001B[43m \u001B[49m\u001B[43mattrs\u001B[49m\u001B[43m,\u001B[49m\u001B[43m \u001B[49m\u001B[43mnum_outputs\u001B[49m\u001B[43m)\u001B[49m\n\u001B[0;32m     54\u001B[0m \u001B[38;5;28;01mexcept\u001B[39;00m core\u001B[38;5;241m.\u001B[39m_NotOkStatusException \u001B[38;5;28;01mas\u001B[39;00m e:\n\u001B[0;32m     55\u001B[0m   \u001B[38;5;28;01mif\u001B[39;00m name \u001B[38;5;129;01mis\u001B[39;00m \u001B[38;5;129;01mnot\u001B[39;00m \u001B[38;5;28;01mNone\u001B[39;00m:\n",
      "\u001B[1;31mKeyboardInterrupt\u001B[0m: "
     ]
    }
   ],
   "source": [
    "epochs = 10\n",
    "batch_size = 1024\n",
    "checkpoint_callback = tf.keras.callbacks.ModelCheckpoint(\n",
    "    filepath=f\"../models/{model_name}_checkpoint.h5\",\n",
    "    save_weights_only=False,\n",
    "    monitor=\"val_accuracy\",\n",
    "    mode=\"max\",\n",
    "    save_best_only=True\n",
    ")\n",
    "\n",
    "history = model.fit(\n",
    "    train_padded, train_answers,\n",
    "    epochs=epochs,\n",
    "    batch_size=batch_size,\n",
    "    validation_data=(validation_padded, validation_answers),\n",
    "    callbacks=[checkpoint_callback]\n",
    ")"
   ],
   "metadata": {
    "collapsed": false,
    "ExecuteTime": {
     "end_time": "2023-07-27T19:01:10.847128300Z",
     "start_time": "2023-07-27T18:54:54.492525300Z"
    }
   }
  },
  {
   "cell_type": "code",
   "execution_count": 69,
   "outputs": [
    {
     "data": {
      "text/plain": "<Figure size 1500x500 with 2 Axes>",
      "image/png": "[encoded data removed]"
     },
     "metadata": {},
     "output_type": "display_data"
    }
   ],
   "source": [
    "def plot_history(history):\n",
    "    plt.plot(history.history[\"loss\"], label=\"loss\")\n",
    "    plt.plot(history.history[\"val_loss\"], label=\"val_loss\")\n",
    "    plt.legend()\n",
    "    plt.show()\n",
    "\n",
    "    plt.plot(history.history[\"accuracy\"], label=\"accuracy\")\n",
    "    plt.plot(history.history[\"val_accuracy\"], label=\"val_accuracy\")\n",
    "    plt.legend()\n",
    "    plt.show()\n",
    "\n",
    "def plot_history_as_subplots(history):\n",
    "    fig, (ax1, ax2) = plt.subplots(1, 2, figsize=(15, 5))\n",
    "    ax1.plot(history.history[\"loss\"], label=\"loss\")\n",
    "    ax1.plot(history.history[\"val_loss\"], label=\"val_loss\")\n",
    "    ax1.legend()\n",
    "    ax2.plot(history.history[\"accuracy\"], label=\"accuracy\")\n",
    "    ax2.plot(history.history[\"val_accuracy\"], label=\"val_accuracy\")\n",
    "    ax2.legend()\n",
    "    plt.show()\n",
    "\n",
    "plot_history_as_subplots(history)"
   ],
   "metadata": {
    "collapsed": false,
    "ExecuteTime": {
     "end_time": "2023-07-27T18:51:27.403292800Z",
     "start_time": "2023-07-27T18:51:27.103028600Z"
    }
   }
  },
  {
   "cell_type": "code",
   "execution_count": null,
   "outputs": [],
   "source": [],
   "metadata": {
    "collapsed": false
   }
  }
 ],
 "metadata": {
  "kernelspec": {
   "display_name": "Python 3",
   "language": "python",
   "name": "python3"
  },
  "language_info": {
   "codemirror_mode": {
    "name": "ipython",
    "version": 2
   },
   "file_extension": ".py",
   "mimetype": "text/x-python",
   "name": "python",
   "nbconvert_exporter": "python",
   "pygments_lexer": "ipython2",
   "version": "2.7.6"
  }
 },
 "nbformat": 4,
 "nbformat_minor": 0
}
