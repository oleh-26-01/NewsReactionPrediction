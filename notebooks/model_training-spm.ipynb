{
 "cells": [
  {
   "cell_type": "markdown",
   "source": [
    "# Importing Libraries"
   ],
   "metadata": {
    "collapsed": false
   }
  },
  {
   "cell_type": "code",
   "execution_count": 2,
   "outputs": [],
   "source": [
    "import pickle\n",
    "import numpy as np\n",
    "import pandas as pd\n",
    "import tensorflow as tf\n",
    "import sentencepiece as spm\n",
    "\n",
    "import matplotlib.pyplot as plt\n",
    "\n",
    "# noinspection PyUnresolvedReferences\n",
    "from tensorflow.keras.preprocessing.text import Tokenizer\n",
    "# noinspection PyUnresolvedReferences\n",
    "from tensorflow.keras.preprocessing.sequence import pad_sequences\n",
    "from helper import *"
   ],
   "metadata": {
    "collapsed": false,
    "ExecuteTime": {
     "end_time": "2024-03-04T21:00:46.791607400Z",
     "start_time": "2024-03-04T21:00:46.757625900Z"
    }
   }
  },
  {
   "cell_type": "markdown",
   "source": [
    "# Loading Data"
   ],
   "metadata": {
    "collapsed": false
   }
  },
  {
   "cell_type": "code",
   "execution_count": 41,
   "outputs": [
    {
     "data": {
      "text/plain": "                                                     text  positive     mixed  \\\n0        🏦 Колишні російські власники вже державного С...  0.179402  0.011628   \n1        ❤️‍🩹 Кожна хвилина на фронті - це життя війсь...  0.989399  0.000000   \n2       Більш ніж половина українських громадян — 56% ...  0.928571  0.040816   \n3       \"Це процес, який буде тривати і набирати оберт...  0.985535  0.011801   \n4       Нардепу від ОПЗЖ Пономарьову СБУ повідомила пр...  0.889975  0.007222   \n...                                                   ...       ...       ...   \n187250  Ти сильна. Ти талановита. Ти красива. Ти мрійл...  0.986304  0.000000   \n187251   ⚡️На Дніпропетровщині російські військові обс...  0.022256  0.000000   \n187252   Генштаб ЗСУ: Основні зусилля ворог зосереджує...  0.309588  0.000000   \n187253   Повітряна тривога в Бахмутський район та Покр...  0.027384  0.000000   \n187254   ❗️Повітряна тривога в Краматорський район\\nПр...  0.036145  0.000000   \n\n        negative  \n0       0.808970  \n1       0.010601  \n2       0.030612  \n3       0.002665  \n4       0.102804  \n...          ...  \n187250  0.013696  \n187251  0.977744  \n187252  0.690412  \n187253  0.972616  \n187254  0.963855  \n\n[187255 rows x 4 columns]",
      "text/html": "<div>\n<style scoped>\n    .dataframe tbody tr th:only-of-type {\n        vertical-align: middle;\n    }\n\n    .dataframe tbody tr th {\n        vertical-align: top;\n    }\n\n    .dataframe thead th {\n        text-align: right;\n    }\n</style>\n<table border=\"1\" class=\"dataframe\">\n  <thead>\n    <tr style=\"text-align: right;\">\n      <th></th>\n      <th>text</th>\n      <th>positive</th>\n      <th>mixed</th>\n      <th>negative</th>\n    </tr>\n  </thead>\n  <tbody>\n    <tr>\n      <th>0</th>\n      <td>🏦 Колишні російські власники вже державного С...</td>\n      <td>0.179402</td>\n      <td>0.011628</td>\n      <td>0.808970</td>\n    </tr>\n    <tr>\n      <th>1</th>\n      <td>❤️‍🩹 Кожна хвилина на фронті - це життя війсь...</td>\n      <td>0.989399</td>\n      <td>0.000000</td>\n      <td>0.010601</td>\n    </tr>\n    <tr>\n      <th>2</th>\n      <td>Більш ніж половина українських громадян — 56% ...</td>\n      <td>0.928571</td>\n      <td>0.040816</td>\n      <td>0.030612</td>\n    </tr>\n    <tr>\n      <th>3</th>\n      <td>\"Це процес, який буде тривати і набирати оберт...</td>\n      <td>0.985535</td>\n      <td>0.011801</td>\n      <td>0.002665</td>\n    </tr>\n    <tr>\n      <th>4</th>\n      <td>Нардепу від ОПЗЖ Пономарьову СБУ повідомила пр...</td>\n      <td>0.889975</td>\n      <td>0.007222</td>\n      <td>0.102804</td>\n    </tr>\n    <tr>\n      <th>...</th>\n      <td>...</td>\n      <td>...</td>\n      <td>...</td>\n      <td>...</td>\n    </tr>\n    <tr>\n      <th>187250</th>\n      <td>Ти сильна. Ти талановита. Ти красива. Ти мрійл...</td>\n      <td>0.986304</td>\n      <td>0.000000</td>\n      <td>0.013696</td>\n    </tr>\n    <tr>\n      <th>187251</th>\n      <td>⚡️На Дніпропетровщині російські військові обс...</td>\n      <td>0.022256</td>\n      <td>0.000000</td>\n      <td>0.977744</td>\n    </tr>\n    <tr>\n      <th>187252</th>\n      <td>Генштаб ЗСУ: Основні зусилля ворог зосереджує...</td>\n      <td>0.309588</td>\n      <td>0.000000</td>\n      <td>0.690412</td>\n    </tr>\n    <tr>\n      <th>187253</th>\n      <td>Повітряна тривога в Бахмутський район та Покр...</td>\n      <td>0.027384</td>\n      <td>0.000000</td>\n      <td>0.972616</td>\n    </tr>\n    <tr>\n      <th>187254</th>\n      <td>❗️Повітряна тривога в Краматорський район\\nПр...</td>\n      <td>0.036145</td>\n      <td>0.000000</td>\n      <td>0.963855</td>\n    </tr>\n  </tbody>\n</table>\n<p>187255 rows × 4 columns</p>\n</div>"
     },
     "execution_count": 41,
     "metadata": {},
     "output_type": "execute_result"
    }
   ],
   "source": [
    "data_path = \"../data/processed_data_temp.csv\"\n",
    "pickle_path = \"../data/data.pickle\"\n",
    "\n",
    "with open(pickle_path, \"rb\") as f:\n",
    "    data = pickle.load(f)\n",
    "\n",
    "df = pd.DataFrame(data, columns=['text', 'positive', 'mixed', 'negative', 'id']) \n",
    "\n",
    "# drop id column\n",
    "df = df.drop(columns=[\"id\"])\n",
    "\n",
    "# \n",
    "# # df = pd.read_csv(data_path)\n",
    "# df = data\n",
    "# # drop id, source, date, time, views, forwards, containing_media\n",
    "# df = df.drop(columns=[\"id\", \"source\", \"date\", \"time\", \"views\", \"forwards\", \"containing_media\", \"sum\"])\n",
    "# df = df.dropna()\n",
    "df"
   ],
   "metadata": {
    "collapsed": false,
    "ExecuteTime": {
     "end_time": "2024-03-05T08:35:21.136908300Z",
     "start_time": "2024-03-05T08:35:19.584256600Z"
    }
   }
  },
  {
   "cell_type": "markdown",
   "source": [
    "# Preprocessing Data"
   ],
   "metadata": {
    "collapsed": false
   }
  },
  {
   "cell_type": "code",
   "execution_count": 47,
   "outputs": [
    {
     "name": "stdout",
     "output_type": "stream",
     "text": [
      "Data length: 187255\n",
      "Cleaning: 187255/187255\n",
      "Processing: 187255/187255\n",
      "Argmax: 187255/187255\n",
      "Articles: 187255, Answers: 187255\n",
      "Example:  колишні російські власники вже державного сенс банку хотіли довести його до банкрутства вони хотіли вивести з нього мільярдні активи і переоформити власну частку в управлінні на підставних людей щоб приховати сліди банк планували довести до штучного банкрутства тепер розслідуванням цієї справи займаються сбу та офіс генпрокурора подписаться uanovo , [0. 0. 1.]\n"
     ]
    }
   ],
   "source": [
    "def filter_string_rows(df):\n",
    "    data = []\n",
    "    # Check if row[0] is a string\n",
    "    for row in df.values:\n",
    "        if isinstance(row[0], str):\n",
    "            data.append(row)\n",
    "\n",
    "    print(f\"Data length: {len(data)}\")\n",
    "    return data\n",
    "\n",
    "def clean_data(data):\n",
    "    for i in range(len(data)):\n",
    "        data[i][0] = clean_text(data[i][0])\n",
    "        if i % 1000 == 0:\n",
    "            print(f\"Cleaning: {i + 1}/{len(data)}\", end=\"\\r\")\n",
    "    print(f\"Cleaning: {len(data)}/{len(data)}\")\n",
    "    return data\n",
    "\n",
    "def process_data(data):\n",
    "    for i in range(len(data)):\n",
    "        data[i][0] = replace_numbers(data[i][0])\n",
    "        if i % 1000 == 0:\n",
    "            print(f\"Processing: {i + 1}/{len(data)}\", end=\"\\r\")\n",
    "    print(f\"Processing: {len(data)}/{len(data)}\")\n",
    "    return data\n",
    "\n",
    "def articles_answers_crop(data):\n",
    "    articles = [row[0] for row in data]\n",
    "    answers = [[float(value) for value in row[1:]] for row in data]\n",
    "    return articles, answers\n",
    "\n",
    "def argmax_convertion(answers):\n",
    "    # convert [0.8, 0.1, 0.1] to [1, 0, 0]\n",
    "    one_maxtix = np.eye(len(answers[0]))\n",
    "    for i in range(len(answers)):\n",
    "        answers[i] = one_maxtix[np.argmax(answers[i])]\n",
    "        if i % 1000 == 0:\n",
    "            print(f\"Argmax: {i + 1}/{len(answers)}\", end=\"\\r\")\n",
    "    print(f\"Argmax: {len(answers)}/{len(answers)}\")\n",
    "    return answers\n",
    "\n",
    "\n",
    "data = filter_string_rows(df)\n",
    "data = clean_data(data)\n",
    "data = process_data(data)\n",
    "articles, labels = articles_answers_crop(data)\n",
    "answers = argmax_convertion(labels)\n",
    "print(f\"Articles: {len(articles)}, Answers: {len(labels)}\")\n",
    "print(f\"Example: {articles[0]}, {labels[0]}\")"
   ],
   "metadata": {
    "collapsed": false,
    "ExecuteTime": {
     "end_time": "2024-03-05T08:37:49.721560900Z",
     "start_time": "2024-03-05T08:37:43.690739300Z"
    }
   }
  },
  {
   "cell_type": "markdown",
   "source": [
    "# Tokenizing, truncating and padding data"
   ],
   "metadata": {
    "collapsed": false
   }
  },
  {
   "cell_type": "code",
   "execution_count": 214,
   "outputs": [
    {
     "name": "stdout",
     "output_type": "stream",
     "text": [
      "Vocab size: 50000\n"
     ]
    }
   ],
   "source": [
    "tokenizer = spm.SentencePieceProcessor(model_file='./tokenizer/spm_50000.model')\n",
    "\n",
    "print(f\"Vocab size: {tokenizer.vocab_size()}\")"
   ],
   "metadata": {
    "collapsed": false,
    "ExecuteTime": {
     "end_time": "2024-03-05T10:36:26.648856300Z",
     "start_time": "2024-03-05T10:36:26.633714600Z"
    }
   }
  },
  {
   "cell_type": "code",
   "execution_count": 215,
   "outputs": [],
   "source": [
    "articles_encoded = tokenizer.encode(articles)"
   ],
   "metadata": {
    "collapsed": false,
    "ExecuteTime": {
     "end_time": "2024-03-05T10:36:31.671835200Z",
     "start_time": "2024-03-05T10:36:30.929185700Z"
    }
   }
  },
  {
   "cell_type": "code",
   "execution_count": 216,
   "outputs": [
    {
     "name": "stdout",
     "output_type": "stream",
     "text": [
      "Min Words: 0, Max Words: 1474, Mean Words: 47.39269979439801\n"
     ]
    }
   ],
   "source": [
    "def words_per_article(articles):\n",
    "    # calculate words in each article\n",
    "    words_in_articles = [len(article) for article in articles]\n",
    "\n",
    "    # calculate min, max, mean\n",
    "    min_words = min(words_in_articles)\n",
    "    max_words = max(words_in_articles)\n",
    "    mean_words = sum(words_in_articles) / len(articles)\n",
    "\n",
    "    return min_words, max_words, mean_words\n",
    "\n",
    "min_words, max_words, mean_words = words_per_article(articles_encoded)\n",
    "print(f\"Min Words: {min_words}, Max Words: {max_words}, Mean Words: {mean_words}\")"
   ],
   "metadata": {
    "collapsed": false,
    "ExecuteTime": {
     "end_time": "2024-03-05T10:36:31.714964800Z",
     "start_time": "2024-03-05T10:36:31.692409800Z"
    }
   }
  },
  {
   "cell_type": "code",
   "execution_count": 217,
   "outputs": [
    {
     "data": {
      "text/plain": "<Figure size 640x480 with 1 Axes>",
      "image/png": "[encoded data removed]"
     },
     "metadata": {},
     "output_type": "display_data"
    }
   ],
   "source": [
    "# plot distribution of words per article\n",
    "words_per_article = [len(article) for article in articles_encoded]\n",
    "plt.hist(words_per_article, bins=100)\n",
    "plt.xlabel('Words per article')\n",
    "plt.ylabel('Number of articles')\n",
    "plt.xlim(0, 400)\n",
    "plt.show()"
   ],
   "metadata": {
    "collapsed": false,
    "ExecuteTime": {
     "end_time": "2024-03-05T10:36:36.255255Z",
     "start_time": "2024-03-05T10:36:35.324825300Z"
    }
   }
  },
  {
   "cell_type": "code",
   "execution_count": 218,
   "outputs": [
    {
     "name": "stdout",
     "output_type": "stream",
     "text": [
      "Train articles: 149804, Train labels: 149804\n",
      "Test articles: 18725, Test labels: 18725\n",
      "Val articles: 18726, Val labels: 18726\n"
     ]
    }
   ],
   "source": [
    "(train_articles, train_labels), (test_articles, test_labels) = split_data(articles_encoded, labels, 0.8)\n",
    "(test_articles, test_labels), (val_articles, val_labels) = split_data(test_articles, test_labels, 0.5)\n",
    "print(f\"Train articles: {len(train_articles)}, Train labels: {len(train_labels)}\")\n",
    "print(f\"Test articles: {len(test_articles)}, Test labels: {len(test_labels)}\")\n",
    "print(f\"Val articles: {len(val_articles)}, Val labels: {len(val_labels)}\")"
   ],
   "metadata": {
    "collapsed": false,
    "ExecuteTime": {
     "end_time": "2024-03-05T10:36:44.188073400Z",
     "start_time": "2024-03-05T10:36:43.845630Z"
    }
   }
  },
  {
   "cell_type": "code",
   "execution_count": 219,
   "outputs": [
    {
     "name": "stdout",
     "output_type": "stream",
     "text": [
      "Train padded: 149804, Test padded: 18725\n",
      "Train labels: 149804, Test labels: 18725\n"
     ]
    }
   ],
   "source": [
    "# pad sequences\n",
    "max_length = 100\n",
    "trunc_type = 'post'\n",
    "padding_type = 'post'\n",
    "oov_tok = '<OOV>'\n",
    "vocab_size = tokenizer.vocab_size()\n",
    "\n",
    "train_padded = pad_sequences(train_articles, maxlen=max_length, padding=padding_type, truncating=trunc_type)\n",
    "test_padded = pad_sequences(test_articles, maxlen=max_length, padding=padding_type, truncating=trunc_type)\n",
    "\n",
    "train_labels = np.array(train_labels)\n",
    "test_labels = np.array(test_labels)\n",
    "\n",
    "print(f\"Train padded: {len(train_padded)}, Test padded: {len(test_padded)}\")\n",
    "print(f\"Train labels: {len(train_labels)}, Test labels: {len(test_labels)}\")"
   ],
   "metadata": {
    "collapsed": false,
    "ExecuteTime": {
     "end_time": "2024-03-05T10:36:48.170810Z",
     "start_time": "2024-03-05T10:36:47.072916900Z"
    }
   }
  },
  {
   "cell_type": "code",
   "execution_count": 220,
   "outputs": [
    {
     "name": "stdout",
     "output_type": "stream",
     "text": [
      "Model: \"model_23\"\n",
      "_________________________________________________________________\n",
      " Layer (type)                Output Shape              Param #   \n",
      "=================================================================\n",
      " input_24 (InputLayer)       [(None, 100)]             0         \n",
      "                                                                 \n",
      " embedding_23 (Embedding)    (None, 100, 1)            50000     \n",
      "                                                                 \n",
      " flatten_20 (Flatten)        (None, 100)               0         \n",
      "                                                                 \n",
      " dense_52 (Dense)            (None, 8)                 808       \n",
      "                                                                 \n",
      " dropout_23 (Dropout)        (None, 8)                 0         \n",
      "                                                                 \n",
      " dense_53 (Dense)            (None, 3)                 27        \n",
      "                                                                 \n",
      "=================================================================\n",
      "Total params: 50835 (198.57 KB)\n",
      "Trainable params: 50835 (198.57 KB)\n",
      "Non-trainable params: 0 (0.00 Byte)\n",
      "_________________________________________________________________\n"
     ]
    }
   ],
   "source": [
    "import keras.layers as L\n",
    "\n",
    "def create_model(vocab_size, embedding_dim, max_length):\n",
    "    input = L.Input(shape=(max_length,))\n",
    "    x = L.Embedding(vocab_size, embedding_dim)(input)\n",
    "    x = L.Flatten()(x)\n",
    "    x = L.Dense(8, activation=\"relu\")(x)\n",
    "    x = L.Dropout(0.2)(x)\n",
    "    x = L.Dense(3, activation=\"softmax\")(x)\n",
    "    model = tf.keras.Model(inputs=input, outputs=x)\n",
    "    return model\n",
    "\n",
    "embedding_dim = 1\n",
    "\n",
    "model = create_model(vocab_size, embedding_dim, max_length)\n",
    "\n",
    "# loss = tf.keras.losses.KLDivergence()\n",
    "loss = tf.keras.losses.CategoricalCrossentropy()\n",
    "optimizer = tf.keras.optimizers.Adam(learning_rate=1e-3)\n",
    "metrics = [\"accuracy\"]\n",
    "model.compile(\n",
    "    loss=loss, \n",
    "    optimizer=optimizer, \n",
    "    metrics=metrics)\n",
    "\n",
    "model.summary()"
   ],
   "metadata": {
    "collapsed": false,
    "ExecuteTime": {
     "end_time": "2024-03-05T10:36:48.974326100Z",
     "start_time": "2024-03-05T10:36:48.906562Z"
    }
   }
  },
  {
   "cell_type": "code",
   "execution_count": 221,
   "outputs": [
    {
     "name": "stdout",
     "output_type": "stream",
     "text": [
      "Epoch 1/2\n",
      "4682/4682 [==============================] - 6s 1ms/step - loss: 0.6506 - accuracy: 0.7460 - val_loss: 0.5208 - val_accuracy: 0.8122\n",
      "Epoch 2/2\n",
      " 116/4682 [..............................] - ETA: 5s - loss: 0.4988 - accuracy: 0.8330"
     ]
    },
    {
     "name": "stderr",
     "output_type": "stream",
     "text": [
      "C:\\#Coding\\Python\\_uvPythonEnvironment\\.venv\\lib\\site-packages\\keras\\src\\engine\\training.py:3000: UserWarning: You are saving your model as an HDF5 file via `model.save()`. This file format is considered legacy. We recommend using instead the native Keras format, e.g. `model.save('my_model.keras')`.\n",
      "  saving_api.save_model(\n"
     ]
    },
    {
     "name": "stdout",
     "output_type": "stream",
     "text": [
      "4682/4682 [==============================] - 5s 1ms/step - loss: 0.4947 - accuracy: 0.8288 - val_loss: 0.5112 - val_accuracy: 0.8162\n"
     ]
    }
   ],
   "source": [
    "num_epochs = 2\n",
    "batch_size = 1024\n",
    "model_name = \"like_model-spm\"\n",
    "checkpoint_callback = tf.keras.callbacks.ModelCheckpoint(\n",
    "    filepath=f\"../models/{model_name}_checkpoint.h5\",\n",
    "    save_weights_only=False,\n",
    "    monitor=\"val_accuracy\",\n",
    "    mode=\"max\",\n",
    "    save_best_only=True\n",
    ")\n",
    "history = model.fit(\n",
    "    train_padded, train_labels, \n",
    "    epochs=num_epochs, \n",
    "    validation_data=(test_padded, test_labels), \n",
    "    callbacks=[checkpoint_callback],\n",
    "    # batch_size=batch_size\n",
    ")"
   ],
   "metadata": {
    "collapsed": false,
    "ExecuteTime": {
     "end_time": "2024-03-05T10:37:04.792955900Z",
     "start_time": "2024-03-05T10:36:53.053286100Z"
    }
   }
  },
  {
   "cell_type": "code",
   "execution_count": 222,
   "outputs": [
    {
     "data": {
      "text/plain": "<Figure size 1500x500 with 2 Axes>",
      "image/png": "[encoded data removed]"
     },
     "metadata": {},
     "output_type": "display_data"
    }
   ],
   "source": [
    "def plot_history(history):\n",
    "    plt.plot(history.history[\"loss\"], label=\"loss\")\n",
    "    plt.plot(history.history[\"val_loss\"], label=\"val_loss\")\n",
    "    plt.legend()\n",
    "    plt.show()\n",
    "\n",
    "    plt.plot(history.history[\"accuracy\"], label=\"accuracy\")\n",
    "    plt.plot(history.history[\"val_accuracy\"], label=\"val_accuracy\")\n",
    "    plt.legend()\n",
    "    plt.show()\n",
    "\n",
    "def plot_history_as_subplots(history):\n",
    "    fig, (ax1, ax2) = plt.subplots(1, 2, figsize=(15, 5))\n",
    "    ax1.plot(history.history[\"loss\"], label=\"loss\")\n",
    "    ax1.plot(history.history[\"val_loss\"], label=\"val_loss\")\n",
    "    ax1.legend()\n",
    "    ax2.plot(history.history[\"accuracy\"], label=\"accuracy\")\n",
    "    ax2.plot(history.history[\"val_accuracy\"], label=\"val_accuracy\")\n",
    "    ax2.legend()\n",
    "    plt.show()\n",
    "\n",
    "plot_history_as_subplots(history)"
   ],
   "metadata": {
    "collapsed": false,
    "ExecuteTime": {
     "end_time": "2024-03-05T10:37:08.719929700Z",
     "start_time": "2024-03-05T10:37:08.543298300Z"
    }
   }
  },
  {
   "cell_type": "code",
   "execution_count": 223,
   "outputs": [
    {
     "name": "stdout",
     "output_type": "stream",
     "text": [
      "586/586 [==============================] - 1s 728us/step - loss: 0.5112 - accuracy: 0.8162\n"
     ]
    },
    {
     "data": {
      "text/plain": "[0.5112418532371521, 0.8161816000938416]"
     },
     "execution_count": 223,
     "metadata": {},
     "output_type": "execute_result"
    }
   ],
   "source": [
    "# load best model\n",
    "model = tf.keras.models.load_model(f\"../models/{model_name}_checkpoint.h5\")\n",
    "\n",
    "# evaluate on test data\n",
    "model.evaluate(test_padded, test_labels)"
   ],
   "metadata": {
    "collapsed": false,
    "ExecuteTime": {
     "end_time": "2024-03-05T10:37:12.488317500Z",
     "start_time": "2024-03-05T10:37:11.870440400Z"
    }
   }
  },
  {
   "cell_type": "code",
   "execution_count": 224,
   "outputs": [
    {
     "data": {
      "text/plain": "<Figure size 640x480 with 1 Axes>",
      "image/png": "[encoded data removed]"
     },
     "metadata": {},
     "output_type": "display_data"
    }
   ],
   "source": [
    "splited = {}\n",
    "for i in range(len(test_labels)):\n",
    "    varticle = test_articles[i]\n",
    "    vanswer = test_labels[i]\n",
    "\n",
    "    length = len(varticle)\n",
    "    if length > max_length:\n",
    "        continue\n",
    "    if length not in splited:\n",
    "        splited[length] = []\n",
    "\n",
    "    splited[length].append((varticle, vanswer))\n",
    "\n",
    "results = {}\n",
    "# sort splited by length\n",
    "splited = dict(sorted(splited.items(), key=lambda item: item[0]))\n",
    "for key in splited:\n",
    "    varticles = [row[0] for row in splited[key]]\n",
    "    vanswers = [row[1] for row in splited[key]]\n",
    "    varticles_padded = pad_sequences(varticles, maxlen=max_length, padding=padding_type, truncating=trunc_type)\n",
    "    vanswers = np.array(vanswers)\n",
    "    # print(f\"Length: {key}, Articles: {len(varticles)}, Answers: {len(vanswers)}\")\n",
    "    pred = model.evaluate(varticles_padded, vanswers, verbose=0)\n",
    "    # get mean of loss and accuracy\n",
    "    results[key] = (pred[0], pred[1])\n",
    "\n",
    "# make df from results\n",
    "results_df = pd.DataFrame(results.items(), columns=[\"Length\", \"Results\"])\n",
    "# use rolling mean to smooth the data\n",
    "results_df[\"Loss\"] = results_df[\"Results\"].apply(lambda x: x[0]).rolling(10).mean()\n",
    "results_df[\"Accuracy\"] = results_df[\"Results\"].apply(lambda x: x[1]).rolling(10).mean()\n",
    "results_df = results_df.drop(columns=[\"Results\"])\n",
    "\n",
    "# plot results\n",
    "plt.plot(results_df[\"Length\"], results_df[\"Loss\"], label=\"loss\")\n",
    "plt.plot(results_df[\"Length\"], results_df[\"Accuracy\"], label=\"accuracy\")\n",
    "plt.ylim(0, 1)\n",
    "plt.legend()\n",
    "plt.show()"
   ],
   "metadata": {
    "collapsed": false,
    "ExecuteTime": {
     "end_time": "2024-03-05T10:37:19.727695300Z",
     "start_time": "2024-03-05T10:37:13.705769500Z"
    }
   }
  },
  {
   "cell_type": "code",
   "execution_count": 225,
   "outputs": [
    {
     "name": "stderr",
     "output_type": "stream",
     "text": [
      "C:\\#Coding\\Python\\_uvPythonEnvironment\\.venv\\lib\\site-packages\\keras\\src\\engine\\training.py:3000: UserWarning: You are saving your model as an HDF5 file via `model.save()`. This file format is considered legacy. We recommend using instead the native Keras format, e.g. `model.save('my_model.keras')`.\n",
      "  saving_api.save_model(\n"
     ]
    }
   ],
   "source": [
    "# save model\n",
    "model.save(f\"../models/{model_name}.h5\")"
   ],
   "metadata": {
    "collapsed": false,
    "ExecuteTime": {
     "end_time": "2024-03-05T10:37:32.740517700Z",
     "start_time": "2024-03-05T10:37:32.709667800Z"
    }
   }
  },
  {
   "cell_type": "code",
   "execution_count": 226,
   "outputs": [
    {
     "name": "stdout",
     "output_type": "stream",
     "text": [
      "1/1 [==============================] - 0s 84ms/step\n",
      "Article: Комітет з питань гуманітарної та інформаційної політики не підтримав відставку Ткаченка. Зазначають, що рішення прийматиме Верховна Рада.\n",
      "Unfamiliar Words: 0\n"
     ]
    },
    {
     "data": {
      "text/plain": "<Figure size 200x200 with 1 Axes>",
      "image/png": "[encoded data removed]"
     },
     "metadata": {},
     "output_type": "display_data"
    }
   ],
   "source": [
    "o_article = \"Комітет з питань гуманітарної та інформаційної політики не підтримав відставку Ткаченка. Зазначають, що рішення прийматиме Верховна Рада.\"\n",
    "\n",
    "article = o_article.lower()\n",
    "article = tokenizer.encode(article)\n",
    "article_padded = pad_sequences([article], maxlen=max_length, padding=padding_type, truncating=trunc_type)\n",
    "\n",
    "predictions = model.predict(article_padded)\n",
    "\n",
    "count = sum([1 for num in article_padded[0] if num == 1])\n",
    "print(f\"Article: {o_article}\")\n",
    "print(f\"Unfamiliar Words: {count}\")\n",
    "\n",
    "plt.bar(df.columns[1:], predictions[0])\n",
    "plt.gcf().set_size_inches(2, 2)\n",
    "plt.xticks(rotation=45)\n",
    "plt.show()"
   ],
   "metadata": {
    "collapsed": false,
    "ExecuteTime": {
     "end_time": "2024-03-05T10:37:33.535507400Z",
     "start_time": "2024-03-05T10:37:33.356690400Z"
    }
   }
  },
  {
   "cell_type": "code",
   "execution_count": 227,
   "outputs": [
    {
     "name": "stdout",
     "output_type": "stream",
     "text": [
      "1/1 [==============================] - 0s 15ms/step\n",
      "Predictions: [[0.8207334  0.06412252 0.11514406]]\n",
      "columns: Index(['positive', 'mixed', 'negative'], dtype='object')\n"
     ]
    }
   ],
   "source": [
    "predictions = model.predict(article_padded)\n",
    "print(f\"Predictions: {predictions}\")\n",
    "print(f\"columns: {df.columns[1:]}\")"
   ],
   "metadata": {
    "collapsed": false,
    "ExecuteTime": {
     "end_time": "2024-03-05T10:38:33.321222600Z",
     "start_time": "2024-03-05T10:38:33.273554800Z"
    }
   }
  },
  {
   "cell_type": "code",
   "execution_count": 228,
   "outputs": [
    {
     "data": {
      "text/plain": "                                                   text  positive  \\\n0     \"Зерновий коридор\" не буде у безпеці, якщо ООН...  0.973281   \n1     У міноборони рф заявили, що усі кораблі, які п...  0.029799   \n2     Міжнародний кримінальний суд приділяє недостат...   0.92169   \n3     Ситуація на фронті за добу\\n\\nПротивник і нада...  0.970326   \n4     Резніков сказав, коли в Україні будуть літаки ...  0.692113   \n...                                                 ...       ...   \n5300  Журналіста російського пропагандистського ЗМІ ...  0.847131   \n5301  Європарламент ухвалив Акт на підтримку виробни...  0.986479   \n5302  Речник путіна дмитро пєсков назвав «порушенням...  0.145451   \n5303  !?Внаслідок атаки БПЛА на Суми загинуло троє л...  0.026095   \n5304  Іспанія незабаром передасть Україні ще 4 танки...  0.990048   \n\n          neutral  negative  \n0     0.012180747  0.014538  \n1     0.071379071  0.898822  \n2     0.007887324  0.070423  \n3     0.003709199  0.025964  \n4     0.019716886   0.28817  \n...           ...       ...  \n5300  0.141480508  0.011389  \n5301  0.009734992  0.003786  \n5302  0.841038632  0.013511  \n5303   0.00329934  0.970606  \n5304  0.006767516  0.003185  \n\n[5305 rows x 4 columns]",
      "text/html": "<div>\n<style scoped>\n    .dataframe tbody tr th:only-of-type {\n        vertical-align: middle;\n    }\n\n    .dataframe tbody tr th {\n        vertical-align: top;\n    }\n\n    .dataframe thead th {\n        text-align: right;\n    }\n</style>\n<table border=\"1\" class=\"dataframe\">\n  <thead>\n    <tr style=\"text-align: right;\">\n      <th></th>\n      <th>text</th>\n      <th>positive</th>\n      <th>neutral</th>\n      <th>negative</th>\n    </tr>\n  </thead>\n  <tbody>\n    <tr>\n      <th>0</th>\n      <td>\"Зерновий коридор\" не буде у безпеці, якщо ООН...</td>\n      <td>0.973281</td>\n      <td>0.012180747</td>\n      <td>0.014538</td>\n    </tr>\n    <tr>\n      <th>1</th>\n      <td>У міноборони рф заявили, що усі кораблі, які п...</td>\n      <td>0.029799</td>\n      <td>0.071379071</td>\n      <td>0.898822</td>\n    </tr>\n    <tr>\n      <th>2</th>\n      <td>Міжнародний кримінальний суд приділяє недостат...</td>\n      <td>0.92169</td>\n      <td>0.007887324</td>\n      <td>0.070423</td>\n    </tr>\n    <tr>\n      <th>3</th>\n      <td>Ситуація на фронті за добу\\n\\nПротивник і нада...</td>\n      <td>0.970326</td>\n      <td>0.003709199</td>\n      <td>0.025964</td>\n    </tr>\n    <tr>\n      <th>4</th>\n      <td>Резніков сказав, коли в Україні будуть літаки ...</td>\n      <td>0.692113</td>\n      <td>0.019716886</td>\n      <td>0.28817</td>\n    </tr>\n    <tr>\n      <th>...</th>\n      <td>...</td>\n      <td>...</td>\n      <td>...</td>\n      <td>...</td>\n    </tr>\n    <tr>\n      <th>5300</th>\n      <td>Журналіста російського пропагандистського ЗМІ ...</td>\n      <td>0.847131</td>\n      <td>0.141480508</td>\n      <td>0.011389</td>\n    </tr>\n    <tr>\n      <th>5301</th>\n      <td>Європарламент ухвалив Акт на підтримку виробни...</td>\n      <td>0.986479</td>\n      <td>0.009734992</td>\n      <td>0.003786</td>\n    </tr>\n    <tr>\n      <th>5302</th>\n      <td>Речник путіна дмитро пєсков назвав «порушенням...</td>\n      <td>0.145451</td>\n      <td>0.841038632</td>\n      <td>0.013511</td>\n    </tr>\n    <tr>\n      <th>5303</th>\n      <td>!?Внаслідок атаки БПЛА на Суми загинуло троє л...</td>\n      <td>0.026095</td>\n      <td>0.00329934</td>\n      <td>0.970606</td>\n    </tr>\n    <tr>\n      <th>5304</th>\n      <td>Іспанія незабаром передасть Україні ще 4 танки...</td>\n      <td>0.990048</td>\n      <td>0.006767516</td>\n      <td>0.003185</td>\n    </tr>\n  </tbody>\n</table>\n<p>5305 rows × 4 columns</p>\n</div>"
     },
     "execution_count": 228,
     "metadata": {},
     "output_type": "execute_result"
    }
   ],
   "source": [
    "\n",
    "with open(\"../data/temp/data.pickle\", \"rb\") as f:\n",
    "    data = pickle.load(f)\n",
    "\n",
    "# convert data to dataframe\n",
    "test_df = pd.DataFrame(data, columns=['text', 'like', 'heart', 'smile', 'angry', 'sad', 'trigger', 'spread'])\n",
    "\n",
    "# merge like and heart, angry and sad\n",
    "for row in test_df.values:\n",
    "    row[1] = float(row[1]) + float(row[2])\n",
    "    row[4] = float(row[4]) + float(row[5])\n",
    "test_df = test_df.drop(columns=[\"heart\", \"sad\", \"trigger\", \"spread\"])\n",
    "# rename like -> positive, angry -> negative, smile -> neutral\n",
    "test_df = test_df.rename(columns={\"like\": \"positive\", \"angry\": \"negative\", \"smile\": \"neutral\"})\n",
    "test_df = test_df.dropna()\n",
    "test_df"
   ],
   "metadata": {
    "collapsed": false,
    "ExecuteTime": {
     "end_time": "2024-03-05T10:38:35.782437300Z",
     "start_time": "2024-03-05T10:38:35.734629800Z"
    }
   }
  },
  {
   "cell_type": "code",
   "execution_count": 229,
   "outputs": [
    {
     "name": "stdout",
     "output_type": "stream",
     "text": [
      "Test: 5305\n"
     ]
    }
   ],
   "source": [
    "# create validation data from test_df\n",
    "test_articles = [row[0] for row in test_df.values]\n",
    "test_answers = [[float(value) for value in row[1:]] for row in test_df.values]\n",
    "print(f\"Test: {len(test_articles)}\")"
   ],
   "metadata": {
    "collapsed": false,
    "ExecuteTime": {
     "end_time": "2024-03-05T10:38:37.151253200Z",
     "start_time": "2024-03-05T10:38:37.134608500Z"
    }
   }
  },
  {
   "cell_type": "code",
   "execution_count": 230,
   "outputs": [
    {
     "name": "stdout",
     "output_type": "stream",
     "text": [
      "Test Padded: (5305, 100)\n"
     ]
    }
   ],
   "source": [
    "for i in range(len(test_articles)):\n",
    "    test_articles[i] = test_articles[i].lower()\n",
    "    test_articles[i] = tokenizer.encode(test_articles[i])\n",
    "    print(f\"{i + 1}/{len(test_articles)}\", end=\"\\r\")\n",
    "\n",
    "test_padded = pad_sequences(test_articles, maxlen=max_length, padding=padding_type, truncating=trunc_type)\n",
    "print(f\"Test Padded: {test_padded.shape}\")"
   ],
   "metadata": {
    "collapsed": false,
    "ExecuteTime": {
     "end_time": "2024-03-05T10:38:38.965550500Z",
     "start_time": "2024-03-05T10:38:37.740029900Z"
    }
   }
  },
  {
   "cell_type": "code",
   "execution_count": 231,
   "outputs": [
    {
     "name": "stdout",
     "output_type": "stream",
     "text": [
      "166/166 [==============================] - 0s 741us/step - loss: 0.5055 - accuracy: 0.8560\n"
     ]
    },
    {
     "data": {
      "text/plain": "[0.5055369734764099, 0.8559849262237549]"
     },
     "execution_count": 231,
     "metadata": {},
     "output_type": "execute_result"
    }
   ],
   "source": [
    "test_answers = np.array(test_answers)\n",
    "\n",
    "# evaluate on test data\n",
    "model.evaluate(test_padded, test_answers)"
   ],
   "metadata": {
    "collapsed": false,
    "ExecuteTime": {
     "end_time": "2024-03-05T10:38:39.156995Z",
     "start_time": "2024-03-05T10:38:38.967641400Z"
    }
   }
  },
  {
   "cell_type": "code",
   "execution_count": 232,
   "outputs": [
    {
     "name": "stdout",
     "output_type": "stream",
     "text": [
      "(50000, 1)\n"
     ]
    }
   ],
   "source": [
    "e = model.layers[1]\n",
    "weights = e.get_weights()[0]\n",
    "print(weights.shape)"
   ],
   "metadata": {
    "collapsed": false,
    "ExecuteTime": {
     "end_time": "2024-03-05T10:38:40.885995700Z",
     "start_time": "2024-03-05T10:38:40.855829400Z"
    }
   }
  },
  {
   "cell_type": "code",
   "execution_count": 233,
   "outputs": [],
   "source": [
    "vocabs = [tokenizer.id_to_piece(i) for i in range(vocab_size)]\n",
    "vocabs = {vocabs[i]: i for i in range(vocab_size)}\n",
    "reverse_word_index = dict([(value, key) for (key, value) in vocabs.items()])"
   ],
   "metadata": {
    "collapsed": false,
    "ExecuteTime": {
     "end_time": "2024-03-05T10:38:42.613833900Z",
     "start_time": "2024-03-05T10:38:42.605801200Z"
    }
   }
  },
  {
   "cell_type": "code",
   "execution_count": 234,
   "outputs": [],
   "source": [
    "import io\n",
    "\n",
    "out_v = io.open('vectors.tsv', 'w', encoding='utf-8')\n",
    "out_m = io.open('metadata.tsv', 'w', encoding='utf-8')\n",
    "\n",
    "for word_num in range(1, vocab_size):\n",
    "    word = reverse_word_index[word_num]\n",
    "    embeddings = weights[word_num]\n",
    "    out_m.write(word + \"\\n\")\n",
    "    out_v.write(\"\\t\".join([str(x) for x in embeddings]) + \"\\n\")\n",
    "\n",
    "out_v.close()\n",
    "out_m.close()"
   ],
   "metadata": {
    "collapsed": false,
    "ExecuteTime": {
     "end_time": "2024-03-05T10:38:43.478601400Z",
     "start_time": "2024-03-05T10:38:43.331040800Z"
    }
   }
  },
  {
   "cell_type": "code",
   "execution_count": 21,
   "outputs": [],
   "source": [
    "    "
   ],
   "metadata": {
    "collapsed": false,
    "ExecuteTime": {
     "end_time": "2023-07-22T20:03:19.513867700Z",
     "start_time": "2023-07-22T20:03:19.499375300Z"
    }
   }
  }
 ],
 "metadata": {
  "kernelspec": {
   "display_name": "Python 3",
   "language": "python",
   "name": "python3"
  },
  "language_info": {
   "codemirror_mode": {
    "name": "ipython",
    "version": 2
   },
   "file_extension": ".py",
   "mimetype": "text/x-python",
   "name": "python",
   "nbconvert_exporter": "python",
   "pygments_lexer": "ipython2",
   "version": "2.7.6"
  }
 },
 "nbformat": 4,
 "nbformat_minor": 0
}
